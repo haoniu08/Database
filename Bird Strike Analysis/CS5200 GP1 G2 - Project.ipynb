{
  "cells": [
    {
      "cell_type": "markdown",
      "source": [
        "# Set up"
      ],
      "metadata": {
        "id": "kz9e-YvjmPAa"
      },
      "id": "kz9e-YvjmPAa"
    },
    {
      "cell_type": "markdown",
      "source": [
        "**Importing packages**"
      ],
      "metadata": {
        "id": "Lpv_rh7ae6WI"
      },
      "id": "Lpv_rh7ae6WI"
    },
    {
      "cell_type": "code",
      "source": [
        "from google.colab import drive\n",
        "import pandas as pd\n",
        "import matplotlib.pyplot as plt\n",
        "import sqlite3\n",
        "from sqlite3 import Error"
      ],
      "metadata": {
        "id": "YyBK3vUzXvSu"
      },
      "id": "YyBK3vUzXvSu",
      "execution_count": null,
      "outputs": []
    },
    {
      "cell_type": "markdown",
      "source": [
        "**Mount Google Drive**"
      ],
      "metadata": {
        "id": "8mJUxiBcm1IS"
      },
      "id": "8mJUxiBcm1IS"
    },
    {
      "cell_type": "code",
      "source": [
        "# Mount google drive\n",
        "drive.mount('/content/drive')"
      ],
      "metadata": {
        "colab": {
          "base_uri": "https://localhost:8080/"
        },
        "id": "qy73QLo6Etao",
        "outputId": "929b2d03-5ca7-4a13-839e-f60b563b3b04"
      },
      "id": "qy73QLo6Etao",
      "execution_count": null,
      "outputs": [
        {
          "output_type": "stream",
          "name": "stdout",
          "text": [
            "Drive already mounted at /content/drive; to attempt to forcibly remount, call drive.mount(\"/content/drive\", force_remount=True).\n"
          ]
        }
      ]
    },
    {
      "cell_type": "markdown",
      "source": [
        "**Set the location of your CSV file**"
      ],
      "metadata": {
        "id": "IpjHNHQlmdaD"
      },
      "id": "IpjHNHQlmdaD"
    },
    {
      "cell_type": "code",
      "source": [
        "# this is my directory, don't forget to switch to your own directory\n",
        "file_path = '/content/drive/My Drive/Project 1/BirdStrikesData-1.csv'"
      ],
      "metadata": {
        "id": "2uicPxBtmrz_"
      },
      "id": "2uicPxBtmrz_",
      "execution_count": null,
      "outputs": []
    },
    {
      "cell_type": "markdown",
      "source": [
        "**Set the location of your desired sqlite3 database file**"
      ],
      "metadata": {
        "id": "yx-QaN8mmrAo"
      },
      "id": "yx-QaN8mmrAo"
    },
    {
      "cell_type": "code",
      "source": [
        "# Location of your desired sqlite3 database file, don't forget to switch\n",
        "# to your own path\n",
        "db_file_path = '/content/drive/My Drive/Project 1/birdstrikes.db'"
      ],
      "metadata": {
        "id": "nfC5h6frnKBF"
      },
      "id": "nfC5h6frnKBF",
      "execution_count": null,
      "outputs": []
    },
    {
      "cell_type": "markdown",
      "source": [
        "# Data cleaning"
      ],
      "metadata": {
        "id": "Bf92o17-EwxC"
      },
      "id": "Bf92o17-EwxC"
    },
    {
      "cell_type": "markdown",
      "source": [
        "**Load csv file**"
      ],
      "metadata": {
        "id": "eG5BIaCYhkkd"
      },
      "id": "eG5BIaCYhkkd"
    },
    {
      "cell_type": "code",
      "source": [
        "\n",
        "# load the csv file\n",
        "df = pd.read_csv(file_path, keep_default_na=False, na_values=['N/A',''])\n"
      ],
      "metadata": {
        "id": "NKty-VEIEsZ9"
      },
      "id": "NKty-VEIEsZ9",
      "execution_count": null,
      "outputs": []
    },
    {
      "cell_type": "markdown",
      "source": [
        "**Standarlize the column names**"
      ],
      "metadata": {
        "id": "GwqTXc7Uhqk7"
      },
      "id": "GwqTXc7Uhqk7"
    },
    {
      "cell_type": "code",
      "execution_count": null,
      "id": "0680b04b",
      "metadata": {
        "id": "0680b04b"
      },
      "outputs": [],
      "source": [
        "# standarlize the column names\n",
        "\n",
        "# define a function to delete :, /, ?, $,\n",
        "# remove any leading or trailing whitespace from the column names\n",
        "# replace ' ' with _\n",
        "# set all letteres to lowercase\n",
        "def clean_column_names(columns):\n",
        "    cleaned_columns = columns.str.replace(':', '', regex=False) \\\n",
        "                             .str.replace('/', '', regex=False) \\\n",
        "                             .str.replace('?', '', regex=False) \\\n",
        "                             .str.replace('$', '', regex=False) \\\n",
        "                             .str.strip() \\\n",
        "                             .str.replace(' ', \"_\", regex=False) \\\n",
        "                             .str.lower()\n",
        "    return cleaned_columns\n",
        "\n",
        "df.columns = clean_column_names(df.columns)\n"
      ]
    },
    {
      "cell_type": "markdown",
      "source": [
        "**Check data types for all columns**"
      ],
      "metadata": {
        "id": "QeoKT4wkhxtw"
      },
      "id": "QeoKT4wkhxtw"
    },
    {
      "cell_type": "code",
      "source": [
        "# Display the data types of all columns\n",
        "print(\"Data types before specifying:\")\n",
        "print(df.dtypes)"
      ],
      "metadata": {
        "colab": {
          "base_uri": "https://localhost:8080/"
        },
        "id": "AoDCgxdv1qQU",
        "outputId": "473bbd6e-f531-4408-d18f-075e0f8b8552"
      },
      "id": "AoDCgxdv1qQU",
      "execution_count": null,
      "outputs": [
        {
          "output_type": "stream",
          "name": "stdout",
          "text": [
            "Data types before specifying:\n",
            "record_id                                   int64\n",
            "aircraft_type                              object\n",
            "airport_name                               object\n",
            "altitude_bin                               object\n",
            "aircraft_makemodel                         object\n",
            "wildlife_number_struck                     object\n",
            "wildlife_number_struck_actual               int64\n",
            "effect_impact_to_flight                    object\n",
            "flightdate                                 object\n",
            "effect_indicated_damage                    object\n",
            "aircraft_number_of_engines                 object\n",
            "aircraft_airlineoperator                   object\n",
            "origin_state                               object\n",
            "when_phase_of_flight                       object\n",
            "conditions_precipitation                   object\n",
            "remains_of_wildlife_collected                bool\n",
            "remains_of_wildlife_sent_to_smithsonian      bool\n",
            "remarks                                    object\n",
            "wildlife_size                              object\n",
            "conditions_sky                             object\n",
            "wildlife_species                           object\n",
            "pilot_warned_of_birds_or_wildlife          object\n",
            "cost_total                                 object\n",
            "feet_above_ground                          object\n",
            "number_of_people_injured                    int64\n",
            "is_aircraft_large                          object\n",
            "dtype: object\n"
          ]
        }
      ]
    },
    {
      "cell_type": "code",
      "execution_count": null,
      "id": "c2ac2ae1",
      "metadata": {
        "id": "c2ac2ae1",
        "outputId": "91c561c5-7292-4420-ca50-0325897efe56",
        "colab": {
          "base_uri": "https://localhost:8080/",
          "height": 630
        }
      },
      "outputs": [
        {
          "output_type": "stream",
          "name": "stdout",
          "text": [
            "First few rows of the DataFrame:\n"
          ]
        },
        {
          "output_type": "display_data",
          "data": {
            "text/plain": [
              "   record_id aircraft_type                 airport_name altitude_bin  \\\n",
              "0     202152      Airplane                 LAGUARDIA NY    > 1000 ft   \n",
              "1     208159      Airplane  DALLAS/FORT WORTH INTL ARPT    < 1000 ft   \n",
              "2     207601      Airplane            LAKEFRONT AIRPORT    < 1000 ft   \n",
              "3     215953      Airplane          SEATTLE-TACOMA INTL    < 1000 ft   \n",
              "4     219878      Airplane                 NORFOLK INTL    < 1000 ft   \n",
              "\n",
              "  aircraft_makemodel wildlife_number_struck  wildlife_number_struck_actual  \\\n",
              "0          B-737-400               Over 100                            859   \n",
              "1              MD-80               Over 100                            424   \n",
              "2              C-500               Over 100                            261   \n",
              "3          B-737-400               Over 100                            806   \n",
              "4       CL-RJ100/200               Over 100                            942   \n",
              "\n",
              "  effect_impact_to_flight       flightdate effect_indicated_damage  ...  \\\n",
              "0        Engine Shut Down  11/23/2000 0:00           Caused damage  ...   \n",
              "1                    None   7/25/2001 0:00           Caused damage  ...   \n",
              "2                    None   9/14/2001 0:00               No damage  ...   \n",
              "3   Precautionary Landing    9/5/2002 0:00               No damage  ...   \n",
              "4                    None   6/23/2003 0:00               No damage  ...   \n",
              "\n",
              "  remains_of_wildlife_sent_to_smithsonian  \\\n",
              "0                                   False   \n",
              "1                                   False   \n",
              "2                                   False   \n",
              "3                                   False   \n",
              "4                                   False   \n",
              "\n",
              "                                             remarks wildlife_size  \\\n",
              "0  FLT 753. PILOT REPTD A HUNDRED BIRDS ON UNKN T...        Medium   \n",
              "1  102 CARCASSES FOUND. 1 LDG LIGHT ON NOSE GEAR ...         Small   \n",
              "2  FLEW UNDER A VERY LARGE FLOCK OF BIRDS OVER AP...         Small   \n",
              "3  NOTAM WARNING. 26 BIRDS HIT THE A/C, FORCING A...         Small   \n",
              "4                                      NO DMG REPTD.         Small   \n",
              "\n",
              "  conditions_sky       wildlife_species  pilot_warned_of_birds_or_wildlife  \\\n",
              "0       No Cloud  Unknown bird - medium                                  N   \n",
              "1     Some Cloud            Rock pigeon                                  Y   \n",
              "2       No Cloud      European starling                                  N   \n",
              "3     Some Cloud      European starling                                  Y   \n",
              "4       No Cloud      European starling                                  N   \n",
              "\n",
              "   cost_total feet_above_ground number_of_people_injured is_aircraft_large  \n",
              "0      30,736             1,500                        0               Yes  \n",
              "1           0                 0                        0                No  \n",
              "2           0                50                        0                No  \n",
              "3           0                50                        0               Yes  \n",
              "4           0                50                        0                No  \n",
              "\n",
              "[5 rows x 26 columns]"
            ],
            "text/html": [
              "\n",
              "  <div id=\"df-b268e916-c527-433b-a003-e74f2c8bba6a\" class=\"colab-df-container\">\n",
              "    <div>\n",
              "<style scoped>\n",
              "    .dataframe tbody tr th:only-of-type {\n",
              "        vertical-align: middle;\n",
              "    }\n",
              "\n",
              "    .dataframe tbody tr th {\n",
              "        vertical-align: top;\n",
              "    }\n",
              "\n",
              "    .dataframe thead th {\n",
              "        text-align: right;\n",
              "    }\n",
              "</style>\n",
              "<table border=\"1\" class=\"dataframe\">\n",
              "  <thead>\n",
              "    <tr style=\"text-align: right;\">\n",
              "      <th></th>\n",
              "      <th>record_id</th>\n",
              "      <th>aircraft_type</th>\n",
              "      <th>airport_name</th>\n",
              "      <th>altitude_bin</th>\n",
              "      <th>aircraft_makemodel</th>\n",
              "      <th>wildlife_number_struck</th>\n",
              "      <th>wildlife_number_struck_actual</th>\n",
              "      <th>effect_impact_to_flight</th>\n",
              "      <th>flightdate</th>\n",
              "      <th>effect_indicated_damage</th>\n",
              "      <th>...</th>\n",
              "      <th>remains_of_wildlife_sent_to_smithsonian</th>\n",
              "      <th>remarks</th>\n",
              "      <th>wildlife_size</th>\n",
              "      <th>conditions_sky</th>\n",
              "      <th>wildlife_species</th>\n",
              "      <th>pilot_warned_of_birds_or_wildlife</th>\n",
              "      <th>cost_total</th>\n",
              "      <th>feet_above_ground</th>\n",
              "      <th>number_of_people_injured</th>\n",
              "      <th>is_aircraft_large</th>\n",
              "    </tr>\n",
              "  </thead>\n",
              "  <tbody>\n",
              "    <tr>\n",
              "      <th>0</th>\n",
              "      <td>202152</td>\n",
              "      <td>Airplane</td>\n",
              "      <td>LAGUARDIA NY</td>\n",
              "      <td>&gt; 1000 ft</td>\n",
              "      <td>B-737-400</td>\n",
              "      <td>Over 100</td>\n",
              "      <td>859</td>\n",
              "      <td>Engine Shut Down</td>\n",
              "      <td>11/23/2000 0:00</td>\n",
              "      <td>Caused damage</td>\n",
              "      <td>...</td>\n",
              "      <td>False</td>\n",
              "      <td>FLT 753. PILOT REPTD A HUNDRED BIRDS ON UNKN T...</td>\n",
              "      <td>Medium</td>\n",
              "      <td>No Cloud</td>\n",
              "      <td>Unknown bird - medium</td>\n",
              "      <td>N</td>\n",
              "      <td>30,736</td>\n",
              "      <td>1,500</td>\n",
              "      <td>0</td>\n",
              "      <td>Yes</td>\n",
              "    </tr>\n",
              "    <tr>\n",
              "      <th>1</th>\n",
              "      <td>208159</td>\n",
              "      <td>Airplane</td>\n",
              "      <td>DALLAS/FORT WORTH INTL ARPT</td>\n",
              "      <td>&lt; 1000 ft</td>\n",
              "      <td>MD-80</td>\n",
              "      <td>Over 100</td>\n",
              "      <td>424</td>\n",
              "      <td>None</td>\n",
              "      <td>7/25/2001 0:00</td>\n",
              "      <td>Caused damage</td>\n",
              "      <td>...</td>\n",
              "      <td>False</td>\n",
              "      <td>102 CARCASSES FOUND. 1 LDG LIGHT ON NOSE GEAR ...</td>\n",
              "      <td>Small</td>\n",
              "      <td>Some Cloud</td>\n",
              "      <td>Rock pigeon</td>\n",
              "      <td>Y</td>\n",
              "      <td>0</td>\n",
              "      <td>0</td>\n",
              "      <td>0</td>\n",
              "      <td>No</td>\n",
              "    </tr>\n",
              "    <tr>\n",
              "      <th>2</th>\n",
              "      <td>207601</td>\n",
              "      <td>Airplane</td>\n",
              "      <td>LAKEFRONT AIRPORT</td>\n",
              "      <td>&lt; 1000 ft</td>\n",
              "      <td>C-500</td>\n",
              "      <td>Over 100</td>\n",
              "      <td>261</td>\n",
              "      <td>None</td>\n",
              "      <td>9/14/2001 0:00</td>\n",
              "      <td>No damage</td>\n",
              "      <td>...</td>\n",
              "      <td>False</td>\n",
              "      <td>FLEW UNDER A VERY LARGE FLOCK OF BIRDS OVER AP...</td>\n",
              "      <td>Small</td>\n",
              "      <td>No Cloud</td>\n",
              "      <td>European starling</td>\n",
              "      <td>N</td>\n",
              "      <td>0</td>\n",
              "      <td>50</td>\n",
              "      <td>0</td>\n",
              "      <td>No</td>\n",
              "    </tr>\n",
              "    <tr>\n",
              "      <th>3</th>\n",
              "      <td>215953</td>\n",
              "      <td>Airplane</td>\n",
              "      <td>SEATTLE-TACOMA INTL</td>\n",
              "      <td>&lt; 1000 ft</td>\n",
              "      <td>B-737-400</td>\n",
              "      <td>Over 100</td>\n",
              "      <td>806</td>\n",
              "      <td>Precautionary Landing</td>\n",
              "      <td>9/5/2002 0:00</td>\n",
              "      <td>No damage</td>\n",
              "      <td>...</td>\n",
              "      <td>False</td>\n",
              "      <td>NOTAM WARNING. 26 BIRDS HIT THE A/C, FORCING A...</td>\n",
              "      <td>Small</td>\n",
              "      <td>Some Cloud</td>\n",
              "      <td>European starling</td>\n",
              "      <td>Y</td>\n",
              "      <td>0</td>\n",
              "      <td>50</td>\n",
              "      <td>0</td>\n",
              "      <td>Yes</td>\n",
              "    </tr>\n",
              "    <tr>\n",
              "      <th>4</th>\n",
              "      <td>219878</td>\n",
              "      <td>Airplane</td>\n",
              "      <td>NORFOLK INTL</td>\n",
              "      <td>&lt; 1000 ft</td>\n",
              "      <td>CL-RJ100/200</td>\n",
              "      <td>Over 100</td>\n",
              "      <td>942</td>\n",
              "      <td>None</td>\n",
              "      <td>6/23/2003 0:00</td>\n",
              "      <td>No damage</td>\n",
              "      <td>...</td>\n",
              "      <td>False</td>\n",
              "      <td>NO DMG REPTD.</td>\n",
              "      <td>Small</td>\n",
              "      <td>No Cloud</td>\n",
              "      <td>European starling</td>\n",
              "      <td>N</td>\n",
              "      <td>0</td>\n",
              "      <td>50</td>\n",
              "      <td>0</td>\n",
              "      <td>No</td>\n",
              "    </tr>\n",
              "  </tbody>\n",
              "</table>\n",
              "<p>5 rows × 26 columns</p>\n",
              "</div>\n",
              "    <div class=\"colab-df-buttons\">\n",
              "\n",
              "  <div class=\"colab-df-container\">\n",
              "    <button class=\"colab-df-convert\" onclick=\"convertToInteractive('df-b268e916-c527-433b-a003-e74f2c8bba6a')\"\n",
              "            title=\"Convert this dataframe to an interactive table.\"\n",
              "            style=\"display:none;\">\n",
              "\n",
              "  <svg xmlns=\"http://www.w3.org/2000/svg\" height=\"24px\" viewBox=\"0 -960 960 960\">\n",
              "    <path d=\"M120-120v-720h720v720H120Zm60-500h600v-160H180v160Zm220 220h160v-160H400v160Zm0 220h160v-160H400v160ZM180-400h160v-160H180v160Zm440 0h160v-160H620v160ZM180-180h160v-160H180v160Zm440 0h160v-160H620v160Z\"/>\n",
              "  </svg>\n",
              "    </button>\n",
              "\n",
              "  <style>\n",
              "    .colab-df-container {\n",
              "      display:flex;\n",
              "      gap: 12px;\n",
              "    }\n",
              "\n",
              "    .colab-df-convert {\n",
              "      background-color: #E8F0FE;\n",
              "      border: none;\n",
              "      border-radius: 50%;\n",
              "      cursor: pointer;\n",
              "      display: none;\n",
              "      fill: #1967D2;\n",
              "      height: 32px;\n",
              "      padding: 0 0 0 0;\n",
              "      width: 32px;\n",
              "    }\n",
              "\n",
              "    .colab-df-convert:hover {\n",
              "      background-color: #E2EBFA;\n",
              "      box-shadow: 0px 1px 2px rgba(60, 64, 67, 0.3), 0px 1px 3px 1px rgba(60, 64, 67, 0.15);\n",
              "      fill: #174EA6;\n",
              "    }\n",
              "\n",
              "    .colab-df-buttons div {\n",
              "      margin-bottom: 4px;\n",
              "    }\n",
              "\n",
              "    [theme=dark] .colab-df-convert {\n",
              "      background-color: #3B4455;\n",
              "      fill: #D2E3FC;\n",
              "    }\n",
              "\n",
              "    [theme=dark] .colab-df-convert:hover {\n",
              "      background-color: #434B5C;\n",
              "      box-shadow: 0px 1px 3px 1px rgba(0, 0, 0, 0.15);\n",
              "      filter: drop-shadow(0px 1px 2px rgba(0, 0, 0, 0.3));\n",
              "      fill: #FFFFFF;\n",
              "    }\n",
              "  </style>\n",
              "\n",
              "    <script>\n",
              "      const buttonEl =\n",
              "        document.querySelector('#df-b268e916-c527-433b-a003-e74f2c8bba6a button.colab-df-convert');\n",
              "      buttonEl.style.display =\n",
              "        google.colab.kernel.accessAllowed ? 'block' : 'none';\n",
              "\n",
              "      async function convertToInteractive(key) {\n",
              "        const element = document.querySelector('#df-b268e916-c527-433b-a003-e74f2c8bba6a');\n",
              "        const dataTable =\n",
              "          await google.colab.kernel.invokeFunction('convertToInteractive',\n",
              "                                                    [key], {});\n",
              "        if (!dataTable) return;\n",
              "\n",
              "        const docLinkHtml = 'Like what you see? Visit the ' +\n",
              "          '<a target=\"_blank\" href=https://colab.research.google.com/notebooks/data_table.ipynb>data table notebook</a>'\n",
              "          + ' to learn more about interactive tables.';\n",
              "        element.innerHTML = '';\n",
              "        dataTable['output_type'] = 'display_data';\n",
              "        await google.colab.output.renderOutput(dataTable, element);\n",
              "        const docLink = document.createElement('div');\n",
              "        docLink.innerHTML = docLinkHtml;\n",
              "        element.appendChild(docLink);\n",
              "      }\n",
              "    </script>\n",
              "  </div>\n",
              "\n",
              "\n",
              "<div id=\"df-7ba37555-a268-4b0b-ae78-c9058f825a06\">\n",
              "  <button class=\"colab-df-quickchart\" onclick=\"quickchart('df-7ba37555-a268-4b0b-ae78-c9058f825a06')\"\n",
              "            title=\"Suggest charts\"\n",
              "            style=\"display:none;\">\n",
              "\n",
              "<svg xmlns=\"http://www.w3.org/2000/svg\" height=\"24px\"viewBox=\"0 0 24 24\"\n",
              "     width=\"24px\">\n",
              "    <g>\n",
              "        <path d=\"M19 3H5c-1.1 0-2 .9-2 2v14c0 1.1.9 2 2 2h14c1.1 0 2-.9 2-2V5c0-1.1-.9-2-2-2zM9 17H7v-7h2v7zm4 0h-2V7h2v10zm4 0h-2v-4h2v4z\"/>\n",
              "    </g>\n",
              "</svg>\n",
              "  </button>\n",
              "\n",
              "<style>\n",
              "  .colab-df-quickchart {\n",
              "      --bg-color: #E8F0FE;\n",
              "      --fill-color: #1967D2;\n",
              "      --hover-bg-color: #E2EBFA;\n",
              "      --hover-fill-color: #174EA6;\n",
              "      --disabled-fill-color: #AAA;\n",
              "      --disabled-bg-color: #DDD;\n",
              "  }\n",
              "\n",
              "  [theme=dark] .colab-df-quickchart {\n",
              "      --bg-color: #3B4455;\n",
              "      --fill-color: #D2E3FC;\n",
              "      --hover-bg-color: #434B5C;\n",
              "      --hover-fill-color: #FFFFFF;\n",
              "      --disabled-bg-color: #3B4455;\n",
              "      --disabled-fill-color: #666;\n",
              "  }\n",
              "\n",
              "  .colab-df-quickchart {\n",
              "    background-color: var(--bg-color);\n",
              "    border: none;\n",
              "    border-radius: 50%;\n",
              "    cursor: pointer;\n",
              "    display: none;\n",
              "    fill: var(--fill-color);\n",
              "    height: 32px;\n",
              "    padding: 0;\n",
              "    width: 32px;\n",
              "  }\n",
              "\n",
              "  .colab-df-quickchart:hover {\n",
              "    background-color: var(--hover-bg-color);\n",
              "    box-shadow: 0 1px 2px rgba(60, 64, 67, 0.3), 0 1px 3px 1px rgba(60, 64, 67, 0.15);\n",
              "    fill: var(--button-hover-fill-color);\n",
              "  }\n",
              "\n",
              "  .colab-df-quickchart-complete:disabled,\n",
              "  .colab-df-quickchart-complete:disabled:hover {\n",
              "    background-color: var(--disabled-bg-color);\n",
              "    fill: var(--disabled-fill-color);\n",
              "    box-shadow: none;\n",
              "  }\n",
              "\n",
              "  .colab-df-spinner {\n",
              "    border: 2px solid var(--fill-color);\n",
              "    border-color: transparent;\n",
              "    border-bottom-color: var(--fill-color);\n",
              "    animation:\n",
              "      spin 1s steps(1) infinite;\n",
              "  }\n",
              "\n",
              "  @keyframes spin {\n",
              "    0% {\n",
              "      border-color: transparent;\n",
              "      border-bottom-color: var(--fill-color);\n",
              "      border-left-color: var(--fill-color);\n",
              "    }\n",
              "    20% {\n",
              "      border-color: transparent;\n",
              "      border-left-color: var(--fill-color);\n",
              "      border-top-color: var(--fill-color);\n",
              "    }\n",
              "    30% {\n",
              "      border-color: transparent;\n",
              "      border-left-color: var(--fill-color);\n",
              "      border-top-color: var(--fill-color);\n",
              "      border-right-color: var(--fill-color);\n",
              "    }\n",
              "    40% {\n",
              "      border-color: transparent;\n",
              "      border-right-color: var(--fill-color);\n",
              "      border-top-color: var(--fill-color);\n",
              "    }\n",
              "    60% {\n",
              "      border-color: transparent;\n",
              "      border-right-color: var(--fill-color);\n",
              "    }\n",
              "    80% {\n",
              "      border-color: transparent;\n",
              "      border-right-color: var(--fill-color);\n",
              "      border-bottom-color: var(--fill-color);\n",
              "    }\n",
              "    90% {\n",
              "      border-color: transparent;\n",
              "      border-bottom-color: var(--fill-color);\n",
              "    }\n",
              "  }\n",
              "</style>\n",
              "\n",
              "  <script>\n",
              "    async function quickchart(key) {\n",
              "      const quickchartButtonEl =\n",
              "        document.querySelector('#' + key + ' button');\n",
              "      quickchartButtonEl.disabled = true;  // To prevent multiple clicks.\n",
              "      quickchartButtonEl.classList.add('colab-df-spinner');\n",
              "      try {\n",
              "        const charts = await google.colab.kernel.invokeFunction(\n",
              "            'suggestCharts', [key], {});\n",
              "      } catch (error) {\n",
              "        console.error('Error during call to suggestCharts:', error);\n",
              "      }\n",
              "      quickchartButtonEl.classList.remove('colab-df-spinner');\n",
              "      quickchartButtonEl.classList.add('colab-df-quickchart-complete');\n",
              "    }\n",
              "    (() => {\n",
              "      let quickchartButtonEl =\n",
              "        document.querySelector('#df-7ba37555-a268-4b0b-ae78-c9058f825a06 button');\n",
              "      quickchartButtonEl.style.display =\n",
              "        google.colab.kernel.accessAllowed ? 'block' : 'none';\n",
              "    })();\n",
              "  </script>\n",
              "</div>\n",
              "\n",
              "    </div>\n",
              "  </div>\n"
            ],
            "application/vnd.google.colaboratory.intrinsic+json": {
              "type": "dataframe"
            }
          },
          "metadata": {}
        }
      ],
      "source": [
        "from IPython.display import display\n",
        "\n",
        "# Print the cleaned column names to check\n",
        "print(\"First few rows of the DataFrame:\")\n",
        "display(df.head())"
      ]
    },
    {
      "cell_type": "markdown",
      "source": [
        "**Display unique values in a column to check outliers**"
      ],
      "metadata": {
        "id": "1ODoIndPh6_y"
      },
      "id": "1ODoIndPh6_y"
    },
    {
      "cell_type": "code",
      "execution_count": null,
      "id": "c8285bd1",
      "metadata": {
        "id": "c8285bd1",
        "outputId": "b9daea42-8c92-4f15-8967-2ee40aaa6a8f",
        "colab": {
          "base_uri": "https://localhost:8080/"
        },
        "collapsed": true
      },
      "outputs": [
        {
          "output_type": "stream",
          "name": "stdout",
          "text": [
            "Column: record_id\n",
            "Unique Values (25558): [202152 208159 207601 215953 219878 218432 221697 236635 207369 204371]\n",
            "\n",
            "\n",
            "Column: aircraft_type\n",
            "Unique Values (2): ['Airplane' nan]\n",
            "\n",
            "\n",
            "Column: airport_name\n",
            "Unique Values (1110): ['LAGUARDIA NY' 'DALLAS/FORT WORTH INTL ARPT' 'LAKEFRONT AIRPORT'\n",
            " 'SEATTLE-TACOMA INTL' 'NORFOLK INTL' 'GUAYAQUIL/S BOLIVAR'\n",
            " 'NEW CASTLE COUNTY' 'WASHINGTON DULLES INTL ARPT' 'ATLANTA INTL'\n",
            " 'ORLANDO SANFORD INTL AIRPORT']\n",
            "\n",
            "\n",
            "Column: altitude_bin\n",
            "Unique Values (3): ['> 1000 ft' '< 1000 ft' nan]\n",
            "\n",
            "\n",
            "Column: aircraft_makemodel\n",
            "Unique Values (351): ['B-737-400' 'MD-80' 'C-500' 'CL-RJ100/200' 'A-300' 'LEARJET-25' 'A-320'\n",
            " 'DC-9-30' 'A-330' 'FOKKER F100']\n",
            "\n",
            "\n",
            "Column: wildlife_number_struck\n",
            "Unique Values (5): ['Over 100' '2 to 10' nan '11 to 100' '1']\n",
            "\n",
            "\n",
            "Column: wildlife_number_struck_actual\n",
            "Unique Values (106): [859 424 261 806 942 537 227 320   9   4]\n",
            "\n",
            "\n",
            "Column: effect_impact_to_flight\n",
            "Unique Values (6): ['Engine Shut Down' 'None' 'Precautionary Landing' 'Other'\n",
            " 'Aborted Take-off' nan]\n",
            "\n",
            "\n",
            "Column: flightdate\n",
            "Unique Values (4226): ['11/23/2000 0:00' '7/25/2001 0:00' '9/14/2001 0:00' '9/5/2002 0:00'\n",
            " '6/23/2003 0:00' '7/24/2003 0:00' '8/17/2003 0:00' '3/1/2006 0:00'\n",
            " '1/6/2000 0:00' '1/7/2000 0:00']\n",
            "\n",
            "\n",
            "Column: effect_indicated_damage\n",
            "Unique Values (2): ['Caused damage' 'No damage']\n",
            "\n",
            "\n",
            "Column: aircraft_number_of_engines\n",
            "Unique Values (6): ['2' '3' '4' nan '1' 'C']\n",
            "\n",
            "\n",
            "Column: aircraft_airlineoperator\n",
            "Unique Values (293): ['US AIRWAYS*' 'AMERICAN AIRLINES' 'BUSINESS' 'ALASKA AIRLINES'\n",
            " 'COMAIR AIRLINES' 'UNITED AIRLINES' 'AIRTRAN AIRWAYS' 'AIRTOURS INTL'\n",
            " 'AMERICA WEST AIRLINES' 'EXECUTIVE JET AVIATION']\n",
            "\n",
            "\n",
            "Column: origin_state\n",
            "Unique Values (61): ['New York' 'Texas' 'Louisiana' 'Washington' 'Virginia' nan 'Delaware'\n",
            " 'DC' 'Georgia' 'Florida']\n",
            "\n",
            "\n",
            "Column: when_phase_of_flight\n",
            "Unique Values (8): ['Climb' 'Landing Roll' 'Approach' 'Take-off run' 'Descent' nan 'Taxi'\n",
            " 'Parked']\n",
            "\n",
            "\n",
            "Column: conditions_precipitation\n",
            "Unique Values (8): ['None' 'Snow' 'Fog' 'Rain' 'Fog, Rain' 'Rain, Snow' 'Fog, Rain, Snow'\n",
            " 'Fog, Snow']\n",
            "\n",
            "\n",
            "Column: remains_of_wildlife_collected\n",
            "Unique Values (2): [False  True]\n",
            "\n",
            "\n",
            "Column: remains_of_wildlife_sent_to_smithsonian\n",
            "Unique Values (2): [False  True]\n",
            "\n",
            "\n",
            "Column: remarks\n",
            "Unique Values (18187): ['FLT 753. PILOT REPTD A HUNDRED BIRDS ON UNKN TYPE. #1 ENG WAS SHUT DOWN AND DIVERTED TO EWR. SLIGHT VIBRATION. A/C WAS OUT OF SVC FOR REPAIRS TO COWLING, FAN DUCT ACCOUSTIC PANEL. INGESTION. DENTED FAN BLADE #26 IN #1 ENG. HEAVY BLOOD STAINS ON L WINGTIP'\n",
            " '102 CARCASSES FOUND. 1 LDG LIGHT ON NOSE GEAR WAS DAMAGED AND REPLACED.'\n",
            " 'FLEW UNDER A VERY LARGE FLOCK OF BIRDS OVER APCH END OF RWY. NO DMG. JUST A LOT OF BIRD DROPPINGS ON WINDSCREEN.'\n",
            " 'NOTAM WARNING. 26 BIRDS HIT THE A/C, FORCING AN EMERGENCY LDG. 77 BIRDS WERE FOUND DEAD ON RWY/TWY WITH GRASSHOPPERS IN THEIR STOMACHS. SAFETY AREAS COULD NOT BE THOROUGHLY INSPCTD DURING 14 MINUTE SHUTDOWN OF RWY 34L. NO DMG. A/C OUT OF SVC 40 MINS. PHOT'\n",
            " 'NO DMG REPTD.' 'NO DMG. BIRD REMAINS ON F/O WINDSCREEN.' nan\n",
            " 'WS ASSISTED IN CLEAN-UP OF 273 STARLINGS AND 1 BROWN-HEADED COWBIRD FROM RWY THRESHOLD. PHOTOS OF A/C TAKEN. BORESCOPED BOTH ENGS. FOUND DENTS AND NICKS IN STAGES 3-6. ALL WITHIN LIMITS. CLEANED RADOME, L WING, FLAPS, PYLON, GEAR AND LEADING EDGE FLAPS. R'\n",
            " 'FLT 057'\n",
            " 'FLEW THRU A FLOCK OF ABOUT 30 BIRDS. INGESTED 1. REPTS DIFFER ON  ENG STRUCK, COULD BE #1 AND/OR #2.']\n",
            "\n",
            "\n",
            "Column: wildlife_size\n",
            "Unique Values (4): ['Medium' 'Small' 'Large' nan]\n",
            "\n",
            "\n",
            "Column: conditions_sky\n",
            "Unique Values (3): ['No Cloud' 'Some Cloud' 'Overcast']\n",
            "\n",
            "\n",
            "Column: wildlife_species\n",
            "Unique Values (348): ['Unknown bird - medium' 'Rock pigeon' 'European starling'\n",
            " 'Unknown bird - small' 'Canada goose' 'Snow goose' 'Black-headed munia'\n",
            " 'Ring-billed gull' 'Sandhill crane' 'Western meadowlark']\n",
            "\n",
            "\n",
            "Column: pilot_warned_of_birds_or_wildlife\n",
            "Unique Values (3): ['N' 'Y' nan]\n",
            "\n",
            "\n",
            "Column: cost_total\n",
            "Unique Values (803): ['30,736' '0' '1,481,711' '1,483,141' '8,600' '35,146' '1,336' '10,691'\n",
            " '1,069' '801,820']\n",
            "\n",
            "\n",
            "Column: feet_above_ground\n",
            "Unique Values (258): ['1,500' '0' '50' '150' '100' '200' '1,700' '1,800' '500' '800']\n",
            "\n",
            "\n",
            "Column: number_of_people_injured\n",
            "Unique Values (4): [0 2 1 6]\n",
            "\n",
            "\n",
            "Column: is_aircraft_large\n",
            "Unique Values (3): ['Yes' 'No' nan]\n",
            "\n",
            "\n"
          ]
        }
      ],
      "source": [
        "# Function to display unique values in specified column\n",
        "def display_unique_values(dataframe, column=None):\n",
        "    if column:\n",
        "        if column in dataframe.columns:\n",
        "            unique_values = dataframe[column].unique()\n",
        "            print(f\"Column: {column}\")\n",
        "            print(f\"Unique Values ({len(unique_values)}): {unique_values[:10]}\")  # Display only first 10 unique values for brevity\n",
        "            print(\"\\n\")\n",
        "        else:\n",
        "            print(f\"Column '{column}' does not exist in the DataFrame.\")\n",
        "    else:\n",
        "        for col in dataframe.columns:\n",
        "            unique_values = dataframe[col].unique()\n",
        "            print(f\"Column: {col}\")\n",
        "            print(f\"Unique Values ({len(unique_values)}): {unique_values[:10]}\")  # Display only first 10 unique values for brevity\n",
        "            print(\"\\n\")\n",
        "\n",
        "\n",
        "# Display unique values for a specific column\n",
        "# display_unique_values(df, 'airport_name')\n",
        "\n",
        "# Display unique values for all columns\n",
        "display_unique_values(df)"
      ]
    },
    {
      "cell_type": "markdown",
      "source": [],
      "metadata": {
        "id": "nAp5ZuxciPDl"
      },
      "id": "nAp5ZuxciPDl"
    },
    {
      "cell_type": "markdown",
      "source": [
        "**Delete rows with missing values for columns that should not contain null values**"
      ],
      "metadata": {
        "id": "R8DpCPq7iIxL"
      },
      "id": "R8DpCPq7iIxL"
    },
    {
      "cell_type": "code",
      "execution_count": null,
      "id": "6318e32d",
      "metadata": {
        "id": "6318e32d"
      },
      "outputs": [],
      "source": [
        "\n",
        "# Delete rows with missing values for columns that should not contain null values\n",
        "\n",
        "# Replace empty strings with NaN (specifically for the purpose of identifying and removing them)\n",
        "# df.replace('', pd.NA, inplace=True)\n",
        "df.replace({'': pd.NA, 'N/A': pd.NA}, inplace=True)\n",
        "\n",
        "# Define the list of essential columns that should not have null values\n",
        "essential_columns = ['aircraft_type', 'airport_name', 'flightdate', 'aircraft_airlineoperator',\n",
        "    'origin_state', 'when_phase_of_flight', 'conditions_precipitation', 'effect_impact_to_flight',\n",
        "    'feet_above_ground', 'aircraft_number_of_engines']\n",
        "\n",
        "# Drop rows with null values in any of the essential columns\n",
        "df = df.dropna(subset=essential_columns)\n",
        "\n",
        "# Drop rows with value C for aircraft_number_of_engines\n",
        "df = df[df['aircraft_number_of_engines'] != 'C']\n"
      ]
    },
    {
      "cell_type": "markdown",
      "source": [
        "**Check columns with empty values after deleting**"
      ],
      "metadata": {
        "id": "VrH5w7yaia_c"
      },
      "id": "VrH5w7yaia_c"
    },
    {
      "cell_type": "code",
      "execution_count": null,
      "id": "ef4a7f24",
      "metadata": {
        "id": "ef4a7f24",
        "colab": {
          "base_uri": "https://localhost:8080/"
        },
        "outputId": "7a9d6657-7933-4629-edc2-0bdb53e44669"
      },
      "outputs": [
        {
          "output_type": "stream",
          "name": "stdout",
          "text": [
            "Columns with empty values: ['remarks']\n"
          ]
        }
      ],
      "source": [
        "# Identify columns with empty (NaN) values\n",
        "columns_with_na = df.columns[df.isna().any()].tolist()\n",
        "\n",
        "# Output the names of the columns with empty values\n",
        "print(\"Columns with empty values:\", columns_with_na)"
      ]
    },
    {
      "cell_type": "markdown",
      "source": [
        "**Convert each column to the correct data type**"
      ],
      "metadata": {
        "id": "MX0sLXfHik1d"
      },
      "id": "MX0sLXfHik1d"
    },
    {
      "cell_type": "code",
      "source": [
        "\n",
        "# Convert to correct data types\n",
        "df['aircraft_number_of_engines'] = df['aircraft_number_of_engines'].astype('int64')\n",
        "df['pilot_warned_of_birds_or_wildlife'] = df['pilot_warned_of_birds_or_wildlife'].map({'Y': True, 'N': False}).astype('bool')\n",
        "# df['feet_above_ground'] = pd.to_numeric(df['feet_above_ground'].astype(str).str.replace(',', ''), errors='coerce').astype('Int64')\n",
        "df['feet_above_ground'] = df['feet_above_ground'].astype(str).str.replace(',', '')\n",
        "df['feet_above_ground'] = pd.to_numeric(df['feet_above_ground']).astype('int64')\n",
        "df['is_aircraft_large'] = df['is_aircraft_large'].map({'Yes': True, 'No': False}).astype('bool')\n",
        "\n",
        "# Convert 'FlightDate' to datetime\n",
        "df['flightdate'] = pd.to_datetime(df['flightdate'], format='%m/%d/%Y %H:%M', errors='coerce').astype('string')\n",
        "\n",
        "# Convert 'Cost: Total $' to numeric, handling errors\n",
        "df['cost_total'] = pd.to_numeric(df['cost_total'].astype(str).str.replace('$', '').str.replace(',', ''), errors='coerce').astype('Int64')\n",
        "# Display the data types of all columns after specifying\n",
        "print(\"\\nData types after specifying:\")\n",
        "print(df.dtypes)"
      ],
      "metadata": {
        "colab": {
          "base_uri": "https://localhost:8080/"
        },
        "id": "UYsEZmSt6qNE",
        "outputId": "4c4e90d3-9591-49d2-8bea-270ecae38ccf"
      },
      "id": "UYsEZmSt6qNE",
      "execution_count": null,
      "outputs": [
        {
          "output_type": "stream",
          "name": "stdout",
          "text": [
            "\n",
            "Data types after specifying:\n",
            "record_id                                           int64\n",
            "aircraft_type                                      object\n",
            "airport_name                                       object\n",
            "altitude_bin                                       object\n",
            "aircraft_makemodel                                 object\n",
            "wildlife_number_struck                             object\n",
            "wildlife_number_struck_actual                       int64\n",
            "effect_impact_to_flight                            object\n",
            "flightdate                                 string[python]\n",
            "effect_indicated_damage                            object\n",
            "aircraft_number_of_engines                          int64\n",
            "aircraft_airlineoperator                           object\n",
            "origin_state                                       object\n",
            "when_phase_of_flight                               object\n",
            "conditions_precipitation                           object\n",
            "remains_of_wildlife_collected                        bool\n",
            "remains_of_wildlife_sent_to_smithsonian              bool\n",
            "remarks                                            object\n",
            "wildlife_size                                      object\n",
            "conditions_sky                                     object\n",
            "wildlife_species                                   object\n",
            "pilot_warned_of_birds_or_wildlife                    bool\n",
            "cost_total                                          Int64\n",
            "feet_above_ground                                   int64\n",
            "number_of_people_injured                            int64\n",
            "is_aircraft_large                                    bool\n",
            "dtype: object\n"
          ]
        }
      ]
    },
    {
      "cell_type": "code",
      "source": [
        "df.head()"
      ],
      "metadata": {
        "colab": {
          "base_uri": "https://localhost:8080/",
          "height": 613
        },
        "collapsed": true,
        "id": "8EobWSBZA_vn",
        "outputId": "0ad0110c-8be4-4dcf-d52b-3e7f704da957"
      },
      "id": "8EobWSBZA_vn",
      "execution_count": null,
      "outputs": [
        {
          "output_type": "execute_result",
          "data": {
            "text/plain": [
              "   record_id aircraft_type                 airport_name altitude_bin  \\\n",
              "0     202152      Airplane                 LAGUARDIA NY    > 1000 ft   \n",
              "1     208159      Airplane  DALLAS/FORT WORTH INTL ARPT    < 1000 ft   \n",
              "2     207601      Airplane            LAKEFRONT AIRPORT    < 1000 ft   \n",
              "3     215953      Airplane          SEATTLE-TACOMA INTL    < 1000 ft   \n",
              "4     219878      Airplane                 NORFOLK INTL    < 1000 ft   \n",
              "\n",
              "  aircraft_makemodel wildlife_number_struck  wildlife_number_struck_actual  \\\n",
              "0          B-737-400               Over 100                            859   \n",
              "1              MD-80               Over 100                            424   \n",
              "2              C-500               Over 100                            261   \n",
              "3          B-737-400               Over 100                            806   \n",
              "4       CL-RJ100/200               Over 100                            942   \n",
              "\n",
              "  effect_impact_to_flight  flightdate effect_indicated_damage  ...  \\\n",
              "0        Engine Shut Down  2000-11-23           Caused damage  ...   \n",
              "1                    None  2001-07-25           Caused damage  ...   \n",
              "2                    None  2001-09-14               No damage  ...   \n",
              "3   Precautionary Landing  2002-09-05               No damage  ...   \n",
              "4                    None  2003-06-23               No damage  ...   \n",
              "\n",
              "   remains_of_wildlife_sent_to_smithsonian  \\\n",
              "0                                    False   \n",
              "1                                    False   \n",
              "2                                    False   \n",
              "3                                    False   \n",
              "4                                    False   \n",
              "\n",
              "                                             remarks wildlife_size  \\\n",
              "0  FLT 753. PILOT REPTD A HUNDRED BIRDS ON UNKN T...        Medium   \n",
              "1  102 CARCASSES FOUND. 1 LDG LIGHT ON NOSE GEAR ...         Small   \n",
              "2  FLEW UNDER A VERY LARGE FLOCK OF BIRDS OVER AP...         Small   \n",
              "3  NOTAM WARNING. 26 BIRDS HIT THE A/C, FORCING A...         Small   \n",
              "4                                      NO DMG REPTD.         Small   \n",
              "\n",
              "  conditions_sky       wildlife_species  pilot_warned_of_birds_or_wildlife  \\\n",
              "0       No Cloud  Unknown bird - medium                              False   \n",
              "1     Some Cloud            Rock pigeon                               True   \n",
              "2       No Cloud      European starling                              False   \n",
              "3     Some Cloud      European starling                               True   \n",
              "4       No Cloud      European starling                              False   \n",
              "\n",
              "   cost_total feet_above_ground number_of_people_injured is_aircraft_large  \n",
              "0       30736              1500                        0              True  \n",
              "1           0                 0                        0             False  \n",
              "2           0                50                        0             False  \n",
              "3           0                50                        0              True  \n",
              "4           0                50                        0             False  \n",
              "\n",
              "[5 rows x 26 columns]"
            ],
            "text/html": [
              "\n",
              "  <div id=\"df-c2cf9b20-623c-4be4-a949-0c75fa2d62a5\" class=\"colab-df-container\">\n",
              "    <div>\n",
              "<style scoped>\n",
              "    .dataframe tbody tr th:only-of-type {\n",
              "        vertical-align: middle;\n",
              "    }\n",
              "\n",
              "    .dataframe tbody tr th {\n",
              "        vertical-align: top;\n",
              "    }\n",
              "\n",
              "    .dataframe thead th {\n",
              "        text-align: right;\n",
              "    }\n",
              "</style>\n",
              "<table border=\"1\" class=\"dataframe\">\n",
              "  <thead>\n",
              "    <tr style=\"text-align: right;\">\n",
              "      <th></th>\n",
              "      <th>record_id</th>\n",
              "      <th>aircraft_type</th>\n",
              "      <th>airport_name</th>\n",
              "      <th>altitude_bin</th>\n",
              "      <th>aircraft_makemodel</th>\n",
              "      <th>wildlife_number_struck</th>\n",
              "      <th>wildlife_number_struck_actual</th>\n",
              "      <th>effect_impact_to_flight</th>\n",
              "      <th>flightdate</th>\n",
              "      <th>effect_indicated_damage</th>\n",
              "      <th>...</th>\n",
              "      <th>remains_of_wildlife_sent_to_smithsonian</th>\n",
              "      <th>remarks</th>\n",
              "      <th>wildlife_size</th>\n",
              "      <th>conditions_sky</th>\n",
              "      <th>wildlife_species</th>\n",
              "      <th>pilot_warned_of_birds_or_wildlife</th>\n",
              "      <th>cost_total</th>\n",
              "      <th>feet_above_ground</th>\n",
              "      <th>number_of_people_injured</th>\n",
              "      <th>is_aircraft_large</th>\n",
              "    </tr>\n",
              "  </thead>\n",
              "  <tbody>\n",
              "    <tr>\n",
              "      <th>0</th>\n",
              "      <td>202152</td>\n",
              "      <td>Airplane</td>\n",
              "      <td>LAGUARDIA NY</td>\n",
              "      <td>&gt; 1000 ft</td>\n",
              "      <td>B-737-400</td>\n",
              "      <td>Over 100</td>\n",
              "      <td>859</td>\n",
              "      <td>Engine Shut Down</td>\n",
              "      <td>2000-11-23</td>\n",
              "      <td>Caused damage</td>\n",
              "      <td>...</td>\n",
              "      <td>False</td>\n",
              "      <td>FLT 753. PILOT REPTD A HUNDRED BIRDS ON UNKN T...</td>\n",
              "      <td>Medium</td>\n",
              "      <td>No Cloud</td>\n",
              "      <td>Unknown bird - medium</td>\n",
              "      <td>False</td>\n",
              "      <td>30736</td>\n",
              "      <td>1500</td>\n",
              "      <td>0</td>\n",
              "      <td>True</td>\n",
              "    </tr>\n",
              "    <tr>\n",
              "      <th>1</th>\n",
              "      <td>208159</td>\n",
              "      <td>Airplane</td>\n",
              "      <td>DALLAS/FORT WORTH INTL ARPT</td>\n",
              "      <td>&lt; 1000 ft</td>\n",
              "      <td>MD-80</td>\n",
              "      <td>Over 100</td>\n",
              "      <td>424</td>\n",
              "      <td>None</td>\n",
              "      <td>2001-07-25</td>\n",
              "      <td>Caused damage</td>\n",
              "      <td>...</td>\n",
              "      <td>False</td>\n",
              "      <td>102 CARCASSES FOUND. 1 LDG LIGHT ON NOSE GEAR ...</td>\n",
              "      <td>Small</td>\n",
              "      <td>Some Cloud</td>\n",
              "      <td>Rock pigeon</td>\n",
              "      <td>True</td>\n",
              "      <td>0</td>\n",
              "      <td>0</td>\n",
              "      <td>0</td>\n",
              "      <td>False</td>\n",
              "    </tr>\n",
              "    <tr>\n",
              "      <th>2</th>\n",
              "      <td>207601</td>\n",
              "      <td>Airplane</td>\n",
              "      <td>LAKEFRONT AIRPORT</td>\n",
              "      <td>&lt; 1000 ft</td>\n",
              "      <td>C-500</td>\n",
              "      <td>Over 100</td>\n",
              "      <td>261</td>\n",
              "      <td>None</td>\n",
              "      <td>2001-09-14</td>\n",
              "      <td>No damage</td>\n",
              "      <td>...</td>\n",
              "      <td>False</td>\n",
              "      <td>FLEW UNDER A VERY LARGE FLOCK OF BIRDS OVER AP...</td>\n",
              "      <td>Small</td>\n",
              "      <td>No Cloud</td>\n",
              "      <td>European starling</td>\n",
              "      <td>False</td>\n",
              "      <td>0</td>\n",
              "      <td>50</td>\n",
              "      <td>0</td>\n",
              "      <td>False</td>\n",
              "    </tr>\n",
              "    <tr>\n",
              "      <th>3</th>\n",
              "      <td>215953</td>\n",
              "      <td>Airplane</td>\n",
              "      <td>SEATTLE-TACOMA INTL</td>\n",
              "      <td>&lt; 1000 ft</td>\n",
              "      <td>B-737-400</td>\n",
              "      <td>Over 100</td>\n",
              "      <td>806</td>\n",
              "      <td>Precautionary Landing</td>\n",
              "      <td>2002-09-05</td>\n",
              "      <td>No damage</td>\n",
              "      <td>...</td>\n",
              "      <td>False</td>\n",
              "      <td>NOTAM WARNING. 26 BIRDS HIT THE A/C, FORCING A...</td>\n",
              "      <td>Small</td>\n",
              "      <td>Some Cloud</td>\n",
              "      <td>European starling</td>\n",
              "      <td>True</td>\n",
              "      <td>0</td>\n",
              "      <td>50</td>\n",
              "      <td>0</td>\n",
              "      <td>True</td>\n",
              "    </tr>\n",
              "    <tr>\n",
              "      <th>4</th>\n",
              "      <td>219878</td>\n",
              "      <td>Airplane</td>\n",
              "      <td>NORFOLK INTL</td>\n",
              "      <td>&lt; 1000 ft</td>\n",
              "      <td>CL-RJ100/200</td>\n",
              "      <td>Over 100</td>\n",
              "      <td>942</td>\n",
              "      <td>None</td>\n",
              "      <td>2003-06-23</td>\n",
              "      <td>No damage</td>\n",
              "      <td>...</td>\n",
              "      <td>False</td>\n",
              "      <td>NO DMG REPTD.</td>\n",
              "      <td>Small</td>\n",
              "      <td>No Cloud</td>\n",
              "      <td>European starling</td>\n",
              "      <td>False</td>\n",
              "      <td>0</td>\n",
              "      <td>50</td>\n",
              "      <td>0</td>\n",
              "      <td>False</td>\n",
              "    </tr>\n",
              "  </tbody>\n",
              "</table>\n",
              "<p>5 rows × 26 columns</p>\n",
              "</div>\n",
              "    <div class=\"colab-df-buttons\">\n",
              "\n",
              "  <div class=\"colab-df-container\">\n",
              "    <button class=\"colab-df-convert\" onclick=\"convertToInteractive('df-c2cf9b20-623c-4be4-a949-0c75fa2d62a5')\"\n",
              "            title=\"Convert this dataframe to an interactive table.\"\n",
              "            style=\"display:none;\">\n",
              "\n",
              "  <svg xmlns=\"http://www.w3.org/2000/svg\" height=\"24px\" viewBox=\"0 -960 960 960\">\n",
              "    <path d=\"M120-120v-720h720v720H120Zm60-500h600v-160H180v160Zm220 220h160v-160H400v160Zm0 220h160v-160H400v160ZM180-400h160v-160H180v160Zm440 0h160v-160H620v160ZM180-180h160v-160H180v160Zm440 0h160v-160H620v160Z\"/>\n",
              "  </svg>\n",
              "    </button>\n",
              "\n",
              "  <style>\n",
              "    .colab-df-container {\n",
              "      display:flex;\n",
              "      gap: 12px;\n",
              "    }\n",
              "\n",
              "    .colab-df-convert {\n",
              "      background-color: #E8F0FE;\n",
              "      border: none;\n",
              "      border-radius: 50%;\n",
              "      cursor: pointer;\n",
              "      display: none;\n",
              "      fill: #1967D2;\n",
              "      height: 32px;\n",
              "      padding: 0 0 0 0;\n",
              "      width: 32px;\n",
              "    }\n",
              "\n",
              "    .colab-df-convert:hover {\n",
              "      background-color: #E2EBFA;\n",
              "      box-shadow: 0px 1px 2px rgba(60, 64, 67, 0.3), 0px 1px 3px 1px rgba(60, 64, 67, 0.15);\n",
              "      fill: #174EA6;\n",
              "    }\n",
              "\n",
              "    .colab-df-buttons div {\n",
              "      margin-bottom: 4px;\n",
              "    }\n",
              "\n",
              "    [theme=dark] .colab-df-convert {\n",
              "      background-color: #3B4455;\n",
              "      fill: #D2E3FC;\n",
              "    }\n",
              "\n",
              "    [theme=dark] .colab-df-convert:hover {\n",
              "      background-color: #434B5C;\n",
              "      box-shadow: 0px 1px 3px 1px rgba(0, 0, 0, 0.15);\n",
              "      filter: drop-shadow(0px 1px 2px rgba(0, 0, 0, 0.3));\n",
              "      fill: #FFFFFF;\n",
              "    }\n",
              "  </style>\n",
              "\n",
              "    <script>\n",
              "      const buttonEl =\n",
              "        document.querySelector('#df-c2cf9b20-623c-4be4-a949-0c75fa2d62a5 button.colab-df-convert');\n",
              "      buttonEl.style.display =\n",
              "        google.colab.kernel.accessAllowed ? 'block' : 'none';\n",
              "\n",
              "      async function convertToInteractive(key) {\n",
              "        const element = document.querySelector('#df-c2cf9b20-623c-4be4-a949-0c75fa2d62a5');\n",
              "        const dataTable =\n",
              "          await google.colab.kernel.invokeFunction('convertToInteractive',\n",
              "                                                    [key], {});\n",
              "        if (!dataTable) return;\n",
              "\n",
              "        const docLinkHtml = 'Like what you see? Visit the ' +\n",
              "          '<a target=\"_blank\" href=https://colab.research.google.com/notebooks/data_table.ipynb>data table notebook</a>'\n",
              "          + ' to learn more about interactive tables.';\n",
              "        element.innerHTML = '';\n",
              "        dataTable['output_type'] = 'display_data';\n",
              "        await google.colab.output.renderOutput(dataTable, element);\n",
              "        const docLink = document.createElement('div');\n",
              "        docLink.innerHTML = docLinkHtml;\n",
              "        element.appendChild(docLink);\n",
              "      }\n",
              "    </script>\n",
              "  </div>\n",
              "\n",
              "\n",
              "<div id=\"df-96ffdbc5-f5f7-4715-8ac1-693d1a98d5f6\">\n",
              "  <button class=\"colab-df-quickchart\" onclick=\"quickchart('df-96ffdbc5-f5f7-4715-8ac1-693d1a98d5f6')\"\n",
              "            title=\"Suggest charts\"\n",
              "            style=\"display:none;\">\n",
              "\n",
              "<svg xmlns=\"http://www.w3.org/2000/svg\" height=\"24px\"viewBox=\"0 0 24 24\"\n",
              "     width=\"24px\">\n",
              "    <g>\n",
              "        <path d=\"M19 3H5c-1.1 0-2 .9-2 2v14c0 1.1.9 2 2 2h14c1.1 0 2-.9 2-2V5c0-1.1-.9-2-2-2zM9 17H7v-7h2v7zm4 0h-2V7h2v10zm4 0h-2v-4h2v4z\"/>\n",
              "    </g>\n",
              "</svg>\n",
              "  </button>\n",
              "\n",
              "<style>\n",
              "  .colab-df-quickchart {\n",
              "      --bg-color: #E8F0FE;\n",
              "      --fill-color: #1967D2;\n",
              "      --hover-bg-color: #E2EBFA;\n",
              "      --hover-fill-color: #174EA6;\n",
              "      --disabled-fill-color: #AAA;\n",
              "      --disabled-bg-color: #DDD;\n",
              "  }\n",
              "\n",
              "  [theme=dark] .colab-df-quickchart {\n",
              "      --bg-color: #3B4455;\n",
              "      --fill-color: #D2E3FC;\n",
              "      --hover-bg-color: #434B5C;\n",
              "      --hover-fill-color: #FFFFFF;\n",
              "      --disabled-bg-color: #3B4455;\n",
              "      --disabled-fill-color: #666;\n",
              "  }\n",
              "\n",
              "  .colab-df-quickchart {\n",
              "    background-color: var(--bg-color);\n",
              "    border: none;\n",
              "    border-radius: 50%;\n",
              "    cursor: pointer;\n",
              "    display: none;\n",
              "    fill: var(--fill-color);\n",
              "    height: 32px;\n",
              "    padding: 0;\n",
              "    width: 32px;\n",
              "  }\n",
              "\n",
              "  .colab-df-quickchart:hover {\n",
              "    background-color: var(--hover-bg-color);\n",
              "    box-shadow: 0 1px 2px rgba(60, 64, 67, 0.3), 0 1px 3px 1px rgba(60, 64, 67, 0.15);\n",
              "    fill: var(--button-hover-fill-color);\n",
              "  }\n",
              "\n",
              "  .colab-df-quickchart-complete:disabled,\n",
              "  .colab-df-quickchart-complete:disabled:hover {\n",
              "    background-color: var(--disabled-bg-color);\n",
              "    fill: var(--disabled-fill-color);\n",
              "    box-shadow: none;\n",
              "  }\n",
              "\n",
              "  .colab-df-spinner {\n",
              "    border: 2px solid var(--fill-color);\n",
              "    border-color: transparent;\n",
              "    border-bottom-color: var(--fill-color);\n",
              "    animation:\n",
              "      spin 1s steps(1) infinite;\n",
              "  }\n",
              "\n",
              "  @keyframes spin {\n",
              "    0% {\n",
              "      border-color: transparent;\n",
              "      border-bottom-color: var(--fill-color);\n",
              "      border-left-color: var(--fill-color);\n",
              "    }\n",
              "    20% {\n",
              "      border-color: transparent;\n",
              "      border-left-color: var(--fill-color);\n",
              "      border-top-color: var(--fill-color);\n",
              "    }\n",
              "    30% {\n",
              "      border-color: transparent;\n",
              "      border-left-color: var(--fill-color);\n",
              "      border-top-color: var(--fill-color);\n",
              "      border-right-color: var(--fill-color);\n",
              "    }\n",
              "    40% {\n",
              "      border-color: transparent;\n",
              "      border-right-color: var(--fill-color);\n",
              "      border-top-color: var(--fill-color);\n",
              "    }\n",
              "    60% {\n",
              "      border-color: transparent;\n",
              "      border-right-color: var(--fill-color);\n",
              "    }\n",
              "    80% {\n",
              "      border-color: transparent;\n",
              "      border-right-color: var(--fill-color);\n",
              "      border-bottom-color: var(--fill-color);\n",
              "    }\n",
              "    90% {\n",
              "      border-color: transparent;\n",
              "      border-bottom-color: var(--fill-color);\n",
              "    }\n",
              "  }\n",
              "</style>\n",
              "\n",
              "  <script>\n",
              "    async function quickchart(key) {\n",
              "      const quickchartButtonEl =\n",
              "        document.querySelector('#' + key + ' button');\n",
              "      quickchartButtonEl.disabled = true;  // To prevent multiple clicks.\n",
              "      quickchartButtonEl.classList.add('colab-df-spinner');\n",
              "      try {\n",
              "        const charts = await google.colab.kernel.invokeFunction(\n",
              "            'suggestCharts', [key], {});\n",
              "      } catch (error) {\n",
              "        console.error('Error during call to suggestCharts:', error);\n",
              "      }\n",
              "      quickchartButtonEl.classList.remove('colab-df-spinner');\n",
              "      quickchartButtonEl.classList.add('colab-df-quickchart-complete');\n",
              "    }\n",
              "    (() => {\n",
              "      let quickchartButtonEl =\n",
              "        document.querySelector('#df-96ffdbc5-f5f7-4715-8ac1-693d1a98d5f6 button');\n",
              "      quickchartButtonEl.style.display =\n",
              "        google.colab.kernel.accessAllowed ? 'block' : 'none';\n",
              "    })();\n",
              "  </script>\n",
              "</div>\n",
              "\n",
              "    </div>\n",
              "  </div>\n"
            ],
            "application/vnd.google.colaboratory.intrinsic+json": {
              "type": "dataframe",
              "variable_name": "df"
            }
          },
          "metadata": {},
          "execution_count": 56
        }
      ]
    },
    {
      "cell_type": "code",
      "source": [
        "# Check 'Feet above ground' only contains non-negative values\n",
        "all_positive_integers = (df['feet_above_ground'] >= 0).all()\n",
        "\n",
        "print(\"\\nDoes 'Feet above ground' column contain only positive integers? \", all_positive_integers)\n",
        "\n"
      ],
      "metadata": {
        "colab": {
          "base_uri": "https://localhost:8080/"
        },
        "id": "REaTeD3rBCgg",
        "outputId": "e072b4bb-9eb4-40a7-8495-02184ec85e1e"
      },
      "id": "REaTeD3rBCgg",
      "execution_count": null,
      "outputs": [
        {
          "output_type": "stream",
          "name": "stdout",
          "text": [
            "\n",
            "Does 'Feet above ground' column contain only positive integers?  True\n"
          ]
        }
      ]
    },
    {
      "cell_type": "markdown",
      "source": [
        "**Check if the record size in wildlife_size and wildlife_species matches**"
      ],
      "metadata": {
        "id": "0ZJxuPZ-6icc"
      },
      "id": "0ZJxuPZ-6icc"
    },
    {
      "cell_type": "code",
      "source": [
        "# Check if the record size in wildlife_size and wildlife_species matches\n",
        "# Function to extract size from wildlife_species\n",
        "def extract_size(species):\n",
        "    if pd.isna(species):\n",
        "        return None\n",
        "    parts = species.split(' - ')\n",
        "    if len(parts) > 1:\n",
        "        return parts[-1].strip()\n",
        "    return None\n",
        "\n",
        "# Apply the function to extract size\n",
        "df['extracted_size'] = df['wildlife_species'].apply(extract_size)\n",
        "df['wildlife_size'] = df['wildlife_size'].str.lower()\n",
        "\n",
        "# Compare extracted_size with Wildlife: Size and find discrepancies\n",
        "discrepancies = df[(df['extracted_size'].notna()) & (df['wildlife_size'].notna()) & (df['extracted_size'] != df['wildlife_size'])]\n",
        "\n",
        "# Print the rows with discrepancies\n",
        "print(\"Rows with discrepancies between 'Wildlife: Species' and 'Wildlife: Size':\")\n",
        "print(discrepancies[['wildlife_species', 'wildlife_size', 'extracted_size']])"
      ],
      "metadata": {
        "colab": {
          "base_uri": "https://localhost:8080/"
        },
        "id": "QzIINwHX6hZ3",
        "outputId": "152e6cbb-3b7f-4697-fc82-407fdd875b65"
      },
      "id": "QzIINwHX6hZ3",
      "execution_count": null,
      "outputs": [
        {
          "output_type": "stream",
          "name": "stdout",
          "text": [
            "Rows with discrepancies between 'Wildlife: Species' and 'Wildlife: Size':\n",
            "           wildlife_species wildlife_size extracted_size\n",
            "4939  Unknown bird - medium         large         medium\n"
          ]
        }
      ]
    },
    {
      "cell_type": "code",
      "source": [
        "# Remove rows with discrepancies\n",
        "df = df.drop(discrepancies.index)"
      ],
      "metadata": {
        "id": "G9VEj7VE6quW"
      },
      "id": "G9VEj7VE6quW",
      "execution_count": null,
      "outputs": []
    },
    {
      "cell_type": "markdown",
      "source": [
        "**For each unique aircraft model, make sure model - engine_number - is_large is consistant**"
      ],
      "metadata": {
        "id": "PrmumDr-SV34"
      },
      "id": "PrmumDr-SV34"
    },
    {
      "cell_type": "markdown",
      "source": [
        "**Check for each unique model, is there various  sizes**"
      ],
      "metadata": {
        "id": "8QymkETwSfBr"
      },
      "id": "8QymkETwSfBr"
    },
    {
      "cell_type": "code",
      "source": [
        "# Group by 'aircraft_makemodel' and count the unique values of 's_aircraft_large'\n",
        "size_count_per_model = df.groupby('aircraft_makemodel')['is_aircraft_large'].nunique().reset_index()\n",
        "\n",
        "# Filter to find models with more than one unique size\n",
        "models_with_multiple_sizes = size_count_per_model[size_count_per_model['is_aircraft_large'] > 1]\n",
        "\n",
        "# Print the models with multiple sizes\n",
        "print(\"Models with multiple size:\")\n",
        "print(models_with_multiple_sizes)\n"
      ],
      "metadata": {
        "colab": {
          "base_uri": "https://localhost:8080/"
        },
        "id": "QTnvhK3ySVlM",
        "outputId": "b095cfa7-eb76-4af4-b1cc-242abb42820c"
      },
      "id": "QTnvhK3ySVlM",
      "execution_count": null,
      "outputs": [
        {
          "output_type": "stream",
          "name": "stdout",
          "text": [
            "Models with multiple size:\n",
            "Empty DataFrame\n",
            "Columns: [aircraft_makemodel, is_aircraft_large]\n",
            "Index: []\n"
          ]
        }
      ]
    },
    {
      "cell_type": "markdown",
      "source": [
        "**Check for each unique model, is there various number of engines**"
      ],
      "metadata": {
        "id": "pv8g8_-uSpE4"
      },
      "id": "pv8g8_-uSpE4"
    },
    {
      "cell_type": "code",
      "source": [
        "# Group by 'aircraft_makemodel' and count the unique values of 'aircraft_number_of_engines'\n",
        "engine_count_per_model = df.groupby('aircraft_makemodel')['aircraft_number_of_engines'].nunique().reset_index()\n",
        "\n",
        "# Filter to find models with more than one unique engine number\n",
        "models_with_multiple_engines = engine_count_per_model[engine_count_per_model['aircraft_number_of_engines'] > 1]\n",
        "\n",
        "# Print the models with multiple engine numbers\n",
        "print(\"Models with multiple engine numbers:\")\n",
        "print(models_with_multiple_engines)\n"
      ],
      "metadata": {
        "colab": {
          "base_uri": "https://localhost:8080/"
        },
        "id": "nJM5eupISr3Q",
        "outputId": "0a857b44-3fb8-4ac2-ed9a-51c39c6ab1e4"
      },
      "id": "nJM5eupISr3Q",
      "execution_count": null,
      "outputs": [
        {
          "output_type": "stream",
          "name": "stdout",
          "text": [
            "Models with multiple engine numbers:\n",
            "  aircraft_makemodel  aircraft_number_of_engines\n",
            "0              A-300                           2\n"
          ]
        }
      ]
    },
    {
      "cell_type": "markdown",
      "source": [
        "**For a model with various number of engines, drow the rows to make the number of engines unique**"
      ],
      "metadata": {
        "id": "hpQJq1C7Sy-9"
      },
      "id": "hpQJq1C7Sy-9"
    },
    {
      "cell_type": "code",
      "source": [
        "# Filter the rows for 'A-300' and get the unique engine numbers\n",
        "a300_engine_numbers = df[df['aircraft_makemodel'] == 'A-300']['aircraft_number_of_engines'].unique()\n",
        "\n",
        "print(\"A-300 engine numbers: \")\n",
        "print(a300_engine_numbers)\n",
        "\n",
        "# Find the row numbers where 'aircraft_makemodel' is 'A-300' and 'aircraft_number_of_engines' is 4\n",
        "rows_to_delete = df[(df['aircraft_makemodel'] == 'A-300') & (df['aircraft_number_of_engines'] == 4)].index.tolist()\n",
        "\n",
        "print(\"Rows to delete:\")\n",
        "print(rows_to_delete)\n",
        "\n",
        "# Delete the rows\n",
        "df = df.drop(rows_to_delete)\n",
        "\n",
        "# Check if the model and number of engines are consistant after deleting\n",
        "engine_count_per_model_deleted = df.groupby('aircraft_makemodel')['aircraft_number_of_engines'].nunique().reset_index()\n",
        "\n",
        "# Filter to find models with more than one unique engine number\n",
        "models_with_multiple_engines_deleted = engine_count_per_model_deleted[engine_count_per_model_deleted['aircraft_number_of_engines'] > 1]\n",
        "print(\"Models with multiple engine numbers after deleting:\")\n",
        "print(models_with_multiple_engines_deleted)\n",
        "\n"
      ],
      "metadata": {
        "colab": {
          "base_uri": "https://localhost:8080/"
        },
        "id": "9ifbQJvuS3AN",
        "outputId": "539f7daa-f391-4491-90a0-9f0fa0152360"
      },
      "id": "9ifbQJvuS3AN",
      "execution_count": null,
      "outputs": [
        {
          "output_type": "stream",
          "name": "stdout",
          "text": [
            "A-300 engine numbers: \n",
            "[2 4]\n",
            "Rows to delete:\n",
            "[17031]\n",
            "Models with multiple engine numbers after deleting:\n",
            "Empty DataFrame\n",
            "Columns: [aircraft_makemodel, aircraft_number_of_engines]\n",
            "Index: []\n"
          ]
        }
      ]
    },
    {
      "cell_type": "markdown",
      "source": [
        "# Data Loading"
      ],
      "metadata": {
        "id": "wLDVw8m5efrV"
      },
      "id": "wLDVw8m5efrV"
    },
    {
      "cell_type": "markdown",
      "source": [
        "**Define class for data loading**"
      ],
      "metadata": {
        "id": "GyzudaWTfAHa"
      },
      "id": "GyzudaWTfAHa"
    },
    {
      "cell_type": "code",
      "source": [
        "class BirdStrikesDataLoader:\n",
        "    SQL_SELECT_BIRD = '''\n",
        "    SELECT bird_id FROM bird WHERE size = ? AND species = ?\n",
        "    '''\n",
        "\n",
        "    SQL_INSERT_BIRD = '''\n",
        "    INSERT INTO bird (size, species) VALUES (?, ?)\n",
        "    '''\n",
        "\n",
        "    SQL_SELECT_WEATHER_CONDITION = '''\n",
        "    SELECT wc_id FROM weather_condition WHERE sky = ? AND precipitation = ?\n",
        "    '''\n",
        "\n",
        "    SQL_INSERT_WEATHER_CONDITION = '''\n",
        "    INSERT INTO weather_condition (sky, precipitation) VALUES (?, ?)\n",
        "    '''\n",
        "\n",
        "    SQL_SELECT_AIRPORT = '''\n",
        "    SELECT airport_id FROM airport WHERE name = ? AND location_state = ?\n",
        "    '''\n",
        "\n",
        "    SQL_INSERT_AIRPORT = '''\n",
        "    INSERT INTO airport(name, location_state) VALUES (?, ?)\n",
        "    '''\n",
        "\n",
        "    SQL_SELECT_AIRCRAFT_MODEL = '''\n",
        "    SELECT aircraft_model_id FROM aircraft_model WHERE model = ? AND is_large = ? AND num_of_engines = ?\n",
        "    '''\n",
        "\n",
        "    SQL_INSERT_AIRCRAFT_MODEL = '''\n",
        "    INSERT INTO aircraft_model(model, is_large, num_of_engines) VALUES (?, ?, ?)\n",
        "    '''\n",
        "\n",
        "    SQL_SELECT_AIRLINE = '''\n",
        "    SELECT airline_id FROM airline WHERE airline_name = ?\n",
        "    '''\n",
        "\n",
        "    SQL_INSERT_AIRLINE = '''\n",
        "    INSERT INTO airline(airline_name) VALUES (?)\n",
        "    '''\n",
        "\n",
        "    SQL_INSERT_FLIGHT = '''\n",
        "    INSERT INTO flight(flight_date, airline_id, aircraft_model_id, origin_airport_id) VALUES (?, ?, ?, ?)\n",
        "    '''\n",
        "\n",
        "    SQL_INSERT_STRIKE_RECORD = '''\n",
        "    INSERT INTO strike_record(phase_of_flight, feet_above_ground, num_of_struck_actual, bird_id, flight_id, wc_id) VALUES (?, ?, ?, ?, ?, ?)\n",
        "    '''\n",
        "\n",
        "    SQL_CREATE_TABLES = '''\n",
        "    CREATE TABLE IF NOT EXISTS \"bird\" (\n",
        "        \"bird_id\"\tINTEGER,\n",
        "        \"size\"\tTEXT,\n",
        "        \"species\"\tTEXT,\n",
        "        UNIQUE(\"size\",\"species\"),\n",
        "        PRIMARY KEY(\"bird_id\" AUTOINCREMENT)\n",
        "    );\n",
        "    CREATE TABLE IF NOT EXISTS \"airport\" (\n",
        "        \"airport_id\"\tINTEGER,\n",
        "        \"name\"\tTEXT NOT NULL,\n",
        "        \"location_state\"\tTEXT NOT NULL,\n",
        "        PRIMARY KEY(\"airport_id\" AUTOINCREMENT),\n",
        "        UNIQUE(\"name\")\n",
        "    );\n",
        "    CREATE TABLE IF NOT EXISTS \"aircraft_model\" (\n",
        "        \"aircraft_model_id\"\tINTEGER,\n",
        "        \"model\"\tTEXT NOT NULL UNIQUE,\n",
        "        \"is_large\"\tINTEGER,\n",
        "        \"num_of_engines\"\tINTEGER,\n",
        "        PRIMARY KEY(\"aircraft_model_id\" AUTOINCREMENT)\n",
        "    );\n",
        "    CREATE TABLE IF NOT EXISTS \"weather_condition\" (\n",
        "        \"wc_id\"\tINTEGER,\n",
        "        \"sky\"\tTEXT NOT NULL,\n",
        "        \"precipitation\"\tTEXT NOT NULL,\n",
        "        UNIQUE(\"sky\",\"precipitation\"),\n",
        "        PRIMARY KEY(\"wc_id\")\n",
        "    );\n",
        "    CREATE TABLE IF NOT EXISTS \"airline\" (\n",
        "        \"airline_id\"\tINTEGER,\n",
        "        \"airline_name\"\tTEXT NOT NULL UNIQUE,\n",
        "        PRIMARY KEY(\"airline_id\")\n",
        "    );\n",
        "    CREATE TABLE IF NOT EXISTS \"flight\" (\n",
        "        \"flight_id\"\tINTEGER,\n",
        "        \"flight_date\"\tTEXT NOT NULL,\n",
        "        \"airline_id\"\tINTEGER NOT NULL,\n",
        "        \"aircraft_model_id\"\tINTEGER NOT NULL,\n",
        "        \"origin_airport_id\"\tINTEGER NOT NULL,\n",
        "        PRIMARY KEY(\"flight_id\" AUTOINCREMENT),\n",
        "        FOREIGN KEY(\"origin_airport_id\") REFERENCES \"airport\" on update cascade on delete restrict,\n",
        "        FOREIGN KEY(\"aircraft_model_id\") REFERENCES \"aircraft_model\" on update cascade on delete restrict,\n",
        "        FOREIGN KEY(\"airline_id\") REFERENCES \"airline\" on update cascade on delete restrict\n",
        "    );\n",
        "    CREATE TABLE IF NOT EXISTS \"strike_record\" (\n",
        "        \"record_id\"\tINTEGER,\n",
        "        \"phase_of_flight\"\tTEXT NOT NULL,\n",
        "        \"feet_above_ground\"\tINTEGER NOT NULL,\n",
        "        \"num_of_struck_actual\"\tINTEGER NOT NULL,\n",
        "        \"bird_id\"\tINTEGER NOT NULL,\n",
        "        \"flight_id\"\tINTEGER NOT NULL,\n",
        "        \"wc_id\"\tINTEGER NOT NULL,\n",
        "        PRIMARY KEY(\"record_id\" AUTOINCREMENT),\n",
        "        FOREIGN KEY(\"flight_id\") REFERENCES \"flight\" on update cascade on delete restrict,\n",
        "        FOREIGN KEY(\"bird_id\") REFERENCES \"bird\" on update cascade on delete restrict,\n",
        "        FOREIGN KEY(\"wc_id\") REFERENCES \"weather_condition\" on update cascade on delete restrict\n",
        "    );\n",
        "    '''\n",
        "\n",
        "    def __init__(self, path, df):\n",
        "        self.path = path\n",
        "        self.df = df\n",
        "        try:\n",
        "            self.conn = sqlite3.connect(':memory:')\n",
        "            self.disk_conn = sqlite3.connect(self.path)\n",
        "            self.execute_sql_script(self.SQL_CREATE_TABLES)\n",
        "            self.commit()\n",
        "        except Error as e:\n",
        "            print(e)\n",
        "\n",
        "    def __del__(self):\n",
        "        self.conn.close()\n",
        "        self.disk_conn.close()\n",
        "\n",
        "    def commit(self):\n",
        "        self.conn.commit()\n",
        "\n",
        "    def execute_sql(self, statement):\n",
        "        try:\n",
        "            cursor = self.conn.cursor()\n",
        "            cursor.execute(statement)\n",
        "        except Error as e:\n",
        "            print(e)\n",
        "\n",
        "    def execute_sql_insert(self, query, params):\n",
        "        cursor = self.conn.cursor()\n",
        "        last_row_id = None\n",
        "        try:\n",
        "            cursor.execute(query, params)\n",
        "            last_row_id = cursor.lastrowid\n",
        "        except Error as e:\n",
        "            print(e)\n",
        "        return last_row_id\n",
        "\n",
        "    def execute_sql_query(self, query, params):\n",
        "        cursor = self.conn.cursor()\n",
        "        result = None\n",
        "        try:\n",
        "            cursor.execute(query, params)\n",
        "            result = cursor.fetchall()\n",
        "        except Error as e:\n",
        "            print(e)\n",
        "        return result\n",
        "\n",
        "    def execute_sql_query_one(self, query, params):\n",
        "        cursor = self.conn.cursor()\n",
        "        result = None\n",
        "        try:\n",
        "            cursor.execute(query, params)\n",
        "            result = cursor.fetchone()\n",
        "        except Error as e:\n",
        "            print(e)\n",
        "        return result\n",
        "\n",
        "    def execute_sql_script(self, script):\n",
        "        try:\n",
        "            cursor = self.conn.cursor()\n",
        "            cursor.executescript(script)\n",
        "        except Error as e:\n",
        "            print(e)\n",
        "\n",
        "    def insert_if_not_exists(self, query_sql, insert_sql, params):\n",
        "        result = self.execute_sql_query_one(query_sql, params)\n",
        "        if result is None or len(result) == 0:\n",
        "            auto_id = self.execute_sql_insert(insert_sql, params)\n",
        "            self.commit()\n",
        "        else:\n",
        "            auto_id = result[0]\n",
        "        return auto_id\n",
        "\n",
        "    def insert_bird(self, size, species):\n",
        "        return self.insert_if_not_exists(\n",
        "            self.SQL_SELECT_BIRD,\n",
        "            self.SQL_INSERT_BIRD,\n",
        "            (size, species))\n",
        "\n",
        "    def insert_weather_condition(self, sky, precipitation):\n",
        "        return self.insert_if_not_exists(\n",
        "            self.SQL_SELECT_WEATHER_CONDITION,\n",
        "            self.SQL_INSERT_WEATHER_CONDITION,\n",
        "            (sky, precipitation))\n",
        "\n",
        "    def insert_airport(self, airport_name, location_state):\n",
        "        return self.insert_if_not_exists(\n",
        "            self.SQL_SELECT_AIRPORT,\n",
        "            self.SQL_INSERT_AIRPORT,\n",
        "            (airport_name, location_state))\n",
        "\n",
        "    def insert_aircraft_model(self, model, is_large, num_of_engines):\n",
        "        return self.insert_if_not_exists(\n",
        "            self.SQL_SELECT_AIRCRAFT_MODEL,\n",
        "            self.SQL_INSERT_AIRCRAFT_MODEL,\n",
        "            (model, is_large, num_of_engines))\n",
        "\n",
        "    def insert_airline(self, airline_name):\n",
        "        return self.insert_if_not_exists(\n",
        "            self.SQL_SELECT_AIRLINE,\n",
        "            self.SQL_INSERT_AIRLINE,\n",
        "            (airline_name,))\n",
        "\n",
        "    def insert_flight(self, flight_date, airline_id, aircraft_model_id, origin_airport_id):\n",
        "        return self.execute_sql_insert(\n",
        "            self.SQL_INSERT_FLIGHT,\n",
        "            (flight_date, airline_id, aircraft_model_id, origin_airport_id))\n",
        "\n",
        "    def insert_strike_record(self, phase_of_flight, feet_above_ground, num_of_struck_actual, bird_id, flight_id, wc_id):\n",
        "        record_id = self.execute_sql_insert(\n",
        "            self.SQL_INSERT_STRIKE_RECORD,\n",
        "            (phase_of_flight, feet_above_ground, num_of_struck_actual, bird_id, flight_id, wc_id))\n",
        "        self.commit()\n",
        "        return record_id\n",
        "\n",
        "    # Process every row from pandas dataframe\n",
        "    def load(self):\n",
        "        count = 0\n",
        "        for row in self.df.itertuples():\n",
        "            airport_id = self.insert_airport(row.airport_name, row.origin_state)\n",
        "            aircraft_model_id = self.insert_aircraft_model(row.aircraft_makemodel, row.is_aircraft_large, row.aircraft_number_of_engines )\n",
        "            airline_id = self.insert_airline(row.aircraft_airlineoperator)\n",
        "            flight_id = self.insert_flight(row.flightdate, airline_id, aircraft_model_id, airport_id)\n",
        "            bird_id = self.insert_bird(row.wildlife_size, row.wildlife_species)\n",
        "            wc_id = self.insert_weather_condition(row.conditions_sky, row.conditions_precipitation)\n",
        "            self.insert_strike_record(\n",
        "                row.when_phase_of_flight,\n",
        "                row.feet_above_ground,\n",
        "                row.wildlife_number_struck_actual,\n",
        "                bird_id, flight_id, wc_id)\n",
        "            count += 1\n",
        "\n",
        "        print(f'Loaded {count} records')\n",
        "\n",
        "        # Dump the in-memory database to disk\n",
        "        self.conn.backup(self.disk_conn)\n",
        "        print(f'Database file {self.path} saved.')\n",
        "\n",
        "    def disconnect(self):\n",
        "        self.conn.close()\n",
        "        self.disk_conn.close()\n",
        "\n",
        "    def reconnect(self):\n",
        "        self.conn = sqlite3.connect(':memory:')\n",
        "        self.disk_conn = sqlite3.connect(self.path)\n",
        "\n"
      ],
      "metadata": {
        "id": "E_hcHuEHesPZ"
      },
      "id": "E_hcHuEHesPZ",
      "execution_count": null,
      "outputs": []
    },
    {
      "cell_type": "markdown",
      "source": [
        "**Initialize an instance and start loading data**"
      ],
      "metadata": {
        "id": "gvxDTQwjfIPN"
      },
      "id": "gvxDTQwjfIPN"
    },
    {
      "cell_type": "code",
      "source": [
        "loader = BirdStrikesDataLoader(db_file_path, df)"
      ],
      "metadata": {
        "id": "E9Sgwx4XfQ54"
      },
      "id": "E9Sgwx4XfQ54",
      "execution_count": null,
      "outputs": []
    },
    {
      "cell_type": "code",
      "source": [
        "loader.load()"
      ],
      "metadata": {
        "colab": {
          "base_uri": "https://localhost:8080/"
        },
        "id": "_H2kSvWjgBl3",
        "outputId": "78085e59-8a40-4c6a-e586-ed89aa330218"
      },
      "id": "_H2kSvWjgBl3",
      "execution_count": null,
      "outputs": [
        {
          "output_type": "stream",
          "name": "stderr",
          "text": [
            "Exception ignored in: <function BirdStrikesDataLoader.__del__ at 0x7c2fac21fbe0>\n",
            "Traceback (most recent call last):\n",
            "  File \"<ipython-input-63-e945645bee51>\", line 122, in __del__\n",
            "sqlite3.ProgrammingError: SQLite objects created in a thread can only be used in that same thread. The object was created in thread id 136545480093696 and this is thread id 136544593638976.\n"
          ]
        },
        {
          "output_type": "stream",
          "name": "stdout",
          "text": [
            "Loaded 24744 records\n",
            "Database file /content/drive/My Drive/Project 1/birdstrikes.db saved.\n"
          ]
        }
      ]
    },
    {
      "cell_type": "code",
      "source": [
        "loader.disconnect()"
      ],
      "metadata": {
        "id": "GpasQSG7Iu9X"
      },
      "id": "GpasQSG7Iu9X",
      "execution_count": null,
      "outputs": []
    },
    {
      "cell_type": "markdown",
      "source": [
        "# Database Query"
      ],
      "metadata": {
        "id": "1aN1EsMvGUQF"
      },
      "id": "1aN1EsMvGUQF"
    },
    {
      "cell_type": "markdown",
      "source": [
        "**Part 5 - Query 1** <br>\n",
        "Find the number of bird strike incidents for each airline upon take-off or climb. Include all airlines."
      ],
      "metadata": {
        "id": "ipxA_5zeLEOd"
      },
      "id": "ipxA_5zeLEOd"
    },
    {
      "cell_type": "code",
      "source": [
        "conn = sqlite3.connect(db_file_path)\n",
        "cursor = conn.cursor()\n",
        "\n",
        "query1 = \"\"\"\n",
        "  SELECT   al.airline_name, COUNT(sr.record_id) AS incident_count\n",
        "    FROM   strike_record sr\n",
        "    JOIN   flight f ON sr.flight_id = f.flight_id\n",
        "    JOIN   airline al ON f.airline_id = al.airline_id\n",
        "   WHERE   sr.phase_of_flight IN ('Take-off run', 'Climb')\n",
        "GROUP BY   al.airline_name;\n",
        "\"\"\"\n",
        "\n",
        "cursor.execute(query1)\n",
        "result1 = cursor.fetchall()\n",
        "\n",
        "# Print the result\n",
        "for row in result1:\n",
        "    print(row)"
      ],
      "metadata": {
        "id": "np2ZnbKxKOmg",
        "colab": {
          "base_uri": "https://localhost:8080/"
        },
        "outputId": "d932a486-d0c8-424c-cb7a-6602d2275d36"
      },
      "id": "np2ZnbKxKOmg",
      "execution_count": null,
      "outputs": [
        {
          "output_type": "stream",
          "name": "stdout",
          "text": [
            "('ABX AIR', 51)\n",
            "('ACM AVIATION', 1)\n",
            "('ADI SHUTTLE GROUP', 5)\n",
            "('AER LINGUS', 2)\n",
            "('AEROMEXICO', 1)\n",
            "('AIR AMERICA/TOTAL AIR', 1)\n",
            "('AIR BC', 2)\n",
            "('AIR CANADA', 34)\n",
            "('AIR CANADA JAZZ', 19)\n",
            "('AIR CARGO CARRIERS', 3)\n",
            "('AIR CHINA', 1)\n",
            "('AIR CHINA CARGO', 1)\n",
            "('AIR GEORGIAN', 4)\n",
            "('AIR JAMAICA', 3)\n",
            "('AIR LOGISTICS', 1)\n",
            "('AIR MIDWEST', 9)\n",
            "('AIR NEW ZEALAND', 2)\n",
            "('AIR SUNSHINE', 1)\n",
            "('AIR TRANSAT', 1)\n",
            "('AIR TRANSPORT INTL', 4)\n",
            "('AIR WISCONSIN AIRLINES', 88)\n",
            "('AIRNET EXPRESS', 4)\n",
            "('AIRNOW', 1)\n",
            "('AIRPAC', 1)\n",
            "('AIRTRAN AIRWAYS', 169)\n",
            "('ALASKA AIRLINES', 85)\n",
            "('ALASKA CENTRAL EXPRESS', 1)\n",
            "('ALL NIPPON AIRWAYS', 3)\n",
            "('ALLEGHENYAIRLINES', 17)\n",
            "('ALLEGIANT AIR', 51)\n",
            "('ALOHA AIR CARGO', 2)\n",
            "('ALOHA AIRLINES', 57)\n",
            "('ALPINE AIR', 2)\n",
            "('AMERICA WEST AIRLINES', 47)\n",
            "('AMERICAN AIRLINES', 655)\n",
            "('AMERICAN EAGLE AIRLINES', 319)\n",
            "('AMERICAN JET INTL', 1)\n",
            "('AMERIFLIGHT', 9)\n",
            "('AMERISTAR JET CHARTER', 2)\n",
            "('ASTAR AIR CARGO', 18)\n",
            "('ATA AIRLINES', 12)\n",
            "('ATLANTIC COAST AIRLINES', 45)\n",
            "('ATLANTIC SOUTHEAST', 153)\n",
            "('ATLAS AIR', 3)\n",
            "('AVANTAIR', 3)\n",
            "('AVIANCA', 2)\n",
            "('BERING AIR', 1)\n",
            "('BIGSKY AIRLINES', 2)\n",
            "('BIMINI ISLAND AIR', 1)\n",
            "('BOEING COMMERCIAL AIRPLANE GRP', 2)\n",
            "('BOMBARDIER BUSINESS JET', 6)\n",
            "('BOSTON-MAINE AIRWAYS', 1)\n",
            "('BRITISH AIRWAYS', 2)\n",
            "('BUSINESS', 1274)\n",
            "('BWIA WEST INDIES AIRWAYS', 1)\n",
            "('CANJET AIRLINES', 1)\n",
            "('CAPE AIR', 24)\n",
            "('CAPITAL CARGO INTL', 1)\n",
            "('CAPITAL CITY AIR CARRIER', 1)\n",
            "('CASINO EXPRESS AIRLINES', 1)\n",
            "('CASTLE AVIATION', 1)\n",
            "('CATHAY PACIFIC', 1)\n",
            "('CAYMAN AIRWAYS', 1)\n",
            "('CCAIR', 2)\n",
            "('CENTRAL AIR SOUTHWEST', 2)\n",
            "('CENTRAL AIRWAYS', 1)\n",
            "('CHAMPION AIR', 1)\n",
            "('CHANNEL ISLANDS AVIATION', 1)\n",
            "('CHANTILLY AIR', 1)\n",
            "('CHAUTAUQUA AIRLINES', 56)\n",
            "('CHICAGO EXPRESS', 7)\n",
            "('CHINA AIRLINES', 2)\n",
            "('CITATIONAIR', 6)\n",
            "('COLGAN AIRWAYS', 18)\n",
            "('COMAIR AIRLINES', 78)\n",
            "('COMMUTAIR', 18)\n",
            "('COMPASS AIRLINES', 10)\n",
            "('CONSORCIO AVIACSA', 1)\n",
            "('CONTINENTAL AIRLINES', 98)\n",
            "('CONTINENTAL MICRONESIA', 1)\n",
            "('CORPORATE AIR', 2)\n",
            "('CORPORATE AIRLINES', 1)\n",
            "('CSA AIR', 1)\n",
            "('DB AVIATION (NORTHSHORE)', 1)\n",
            "('DELTA AIR LINES', 490)\n",
            "('EMERY WORLDWIDE', 1)\n",
            "('EMPIRE AIRLINES', 5)\n",
            "('ERA AVIATION', 2)\n",
            "('EVERGREEN INTL AIRLINES', 4)\n",
            "('EXECUTIVE JET AVIATION', 13)\n",
            "('EXECUTIVE JET MGMNT', 9)\n",
            "('EXPRESSJET (CONTINENTAL EXPRS)', 126)\n",
            "('FAA', 1)\n",
            "('FEDEX EXPRESS', 73)\n",
            "('FLIGHT EXPRESS', 3)\n",
            "('FLIGHT INTL', 2)\n",
            "('FLIGHT LINE (AMERICAN CHECK)', 2)\n",
            "('FLIGHT OPTIONS', 24)\n",
            "('FLIGHTSTAR', 1)\n",
            "('FORD MOTOR', 3)\n",
            "('FREEDOM AIR', 1)\n",
            "('FREEDOM AIRLINES', 9)\n",
            "('FRONTIER AIRLINES', 173)\n",
            "('FRONTIER FLYING SERVICE', 3)\n",
            "('GOJET AIRLINES', 10)\n",
            "('GOVERNMENT', 51)\n",
            "('GRAND CANYON AIRLINES', 1)\n",
            "('GREAT LAKES AIRLINES', 58)\n",
            "('GULFSTREAM INTL AIRLINES', 17)\n",
            "('HARMONY AIRWAYS', 1)\n",
            "('HAWAIIAN AIR', 124)\n",
            "('HORIZON AIR', 60)\n",
            "('INDEPENDENCE AIR', 6)\n",
            "('ISLAND AIR', 42)\n",
            "('ISLAND AIRLINES', 1)\n",
            "('ISLAND EXPRESS', 1)\n",
            "('JALWAYS', 1)\n",
            "('JAPAN AIRLINES', 17)\n",
            "('JETBLUE AIRWAYS', 227)\n",
            "('KITTY HAWK AIR CARGO', 2)\n",
            "('KLM ROYAL DUTCH AIRLINES', 1)\n",
            "('KOREAN AIR', 2)\n",
            "('LEGEND AIRLINES', 1)\n",
            "('LUFTHANSA', 4)\n",
            "('LUFTHANSA CARGO', 1)\n",
            "('LYNDEN AIR CARGO', 1)\n",
            "('LYNX AVIATION', 1)\n",
            "('MARTINAIR', 1)\n",
            "('MARTINAIRE', 2)\n",
            "('MESA AIRLINES', 73)\n",
            "('MESABA AIRLINES', 86)\n",
            "('MIAMI AIR INTL', 1)\n",
            "('MIDWAY AIRLINES', 3)\n",
            "('MIDWEST AIRLINES', 13)\n",
            "('MOKULELE AIRLINES', 2)\n",
            "('MONARCH AIRLINES', 1)\n",
            "('MOUNTAIN AIR CARGO', 1)\n",
            "('NANTUCKET AIRLINES', 1)\n",
            "('NATIONAL AIRLINES', 1)\n",
            "('NETJETS', 6)\n",
            "('NETJETS AVIATION', 11)\n",
            "('NORTH AMERICAN', 3)\n",
            "('NORTHERN AIR CARGO', 3)\n",
            "('NORTHWEST AIRLINES', 169)\n",
            "('OMNI AIR INTL', 2)\n",
            "('PACE AIRLINES', 1)\n",
            "('PACIFIC ISLAND AVIATION', 3)\n",
            "('PACIFIC WINGS', 3)\n",
            "('PAN AM', 3)\n",
            "('PENAIR', 4)\n",
            "('PERIMETER AIRLINES', 1)\n",
            "('PIEDMONT AIRLINES', 28)\n",
            "('PINNACLE', 115)\n",
            "('POLAR AIR CARGO', 1)\n",
            "('PRIVATELY OWNED', 154)\n",
            "('PSA AIRLINES', 52)\n",
            "('QANTAS', 1)\n",
            "('RAM AIR FREIGHT', 1)\n",
            "('REPUBLIC AIRLINES', 41)\n",
            "('RYAN AIR SERVICES', 2)\n",
            "('RYAN INTL AIRLINES', 1)\n",
            "('SCENIC AIRLINES', 1)\n",
            "('SHUTTLE AMERICA', 24)\n",
            "('SINGAPORE AIRLINES', 1)\n",
            "('SKY KING', 2)\n",
            "('SKYBUS AIRLINES', 4)\n",
            "('SKYSERVICE AIRLINES', 1)\n",
            "('SKYWAY AIRLINES', 5)\n",
            "('SKYWEST AIRLINES', 282)\n",
            "('SOUTHEAST AIRLINES', 5)\n",
            "('SOUTHERN AIR', 1)\n",
            "('SOUTHERN AIR TRANSPORT', 1)\n",
            "('SOUTHWEST AIRLINES', 1544)\n",
            "('SPIRIT AIRLINES', 59)\n",
            "('SUN COUNTRY AIRLINES', 1)\n",
            "('SUNWORLD INTL AIRLINES', 1)\n",
            "('SWIFT AIR', 1)\n",
            "('SWISS INTL AIR LINES', 1)\n",
            "('SWISSAIR', 2)\n",
            "('TACA INTL AIRLINES', 2)\n",
            "('THOMAS COOK AIRLINES', 2)\n",
            "('THOMSONFLY', 4)\n",
            "('TRADEWINDS AIRLINES', 1)\n",
            "('TRANS AIR', 4)\n",
            "('TRANS STATES AIRLINES', 18)\n",
            "('TRANS WORLD AIRLINES', 15)\n",
            "('TRANSMERIDIAN AIRLINES', 2)\n",
            "('UNITED AIRLINES', 192)\n",
            "('UNIVERSAL JET AVIATION', 1)\n",
            "('UNKNOWN', 35)\n",
            "('UPS AIRLINES', 108)\n",
            "('US AIRWAYS', 220)\n",
            "('US AIRWAYS*', 330)\n",
            "('US CUSTOMS AND BORDER PROTECTION', 5)\n",
            "('USA 3000', 9)\n",
            "('USA JET AIRLINES', 5)\n",
            "('VANGUARD AIRLINES', 1)\n",
            "('VIRGIN AMERICA', 6)\n",
            "('VIRGIN ATLANTIC', 1)\n",
            "('WESTAIR', 2)\n",
            "('WESTJET', 2)\n",
            "('WORLD AIRWAYS', 2)\n",
            "('XOJET', 10)\n",
            "('XTRA AIRWAYS', 3)\n"
          ]
        }
      ]
    },
    {
      "cell_type": "markdown",
      "source": [
        "**Part 5 - Query 2** <br>\n",
        "Find which airport had the most birds involved in incidents. The total number of birds, not incidents, is what matters here. Can be during any flight phase."
      ],
      "metadata": {
        "id": "nQBMAFPULfc5"
      },
      "id": "nQBMAFPULfc5"
    },
    {
      "cell_type": "code",
      "source": [
        "query2 = \"\"\"\n",
        "  SELECT   a.name AS airport_name, SUM(sr.num_of_struck_actual) AS bird_count\n",
        "    FROM   strike_record sr\n",
        "    JOIN   flight f ON sr.flight_id = f.flight_id\n",
        "    JOIN   airport a ON f.origin_airport_id = a  .airport_id\n",
        "GROUP BY   a.name\n",
        "ORDER BY   bird_count DESC\n",
        "   LIMIT   1;\n",
        "\"\"\"\n",
        "\n",
        "cursor.execute(query2)\n",
        "result2 = cursor.fetchall()\n",
        "\n",
        "# Print the result\n",
        "for row in result2:\n",
        "    print(row)\n"
      ],
      "metadata": {
        "id": "77QN37pWLacC",
        "colab": {
          "base_uri": "https://localhost:8080/"
        },
        "outputId": "2f7a4175-6463-49e6-f37c-31f2c0e4f674"
      },
      "id": "77QN37pWLacC",
      "execution_count": null,
      "outputs": [
        {
          "output_type": "stream",
          "name": "stdout",
          "text": [
            "('DALLAS/FORT WORTH INTL ARPT', 2932)\n"
          ]
        }
      ]
    },
    {
      "cell_type": "markdown",
      "source": [
        "**Part 5 - Query 3** <br>\n",
        "Find the number of bird strike incidents by year. Include all airlines."
      ],
      "metadata": {
        "id": "5P1TFnFhL6yu"
      },
      "id": "5P1TFnFhL6yu"
    },
    {
      "cell_type": "code",
      "source": [
        "query3 = \"\"\"\n",
        "  SELECT   strftime('%Y', f.flight_date) AS year, COUNT(sr.record_id) AS incident_count\n",
        "    FROM   strike_record sr\n",
        "    JOIN   flight f ON sr.flight_id = f.flight_id\n",
        "GROUP BY   year\n",
        "ORDER BY   year;\n",
        "\"\"\"\n",
        "\n",
        "cursor.execute(query3)\n",
        "result3 = cursor.fetchall()\n",
        "\n",
        "# Print the result\n",
        "for row in result3:\n",
        "    print(row)"
      ],
      "metadata": {
        "id": "SZj4VjxhMBV4",
        "colab": {
          "base_uri": "https://localhost:8080/"
        },
        "outputId": "0b806a91-7e92-4914-cc70-f57c7bf557aa"
      },
      "id": "SZj4VjxhMBV4",
      "execution_count": null,
      "outputs": [
        {
          "output_type": "stream",
          "name": "stdout",
          "text": [
            "('2000', 1320)\n",
            "('2001', 1174)\n",
            "('2002', 1619)\n",
            "('2003', 1541)\n",
            "('2004', 1671)\n",
            "('2005', 1815)\n",
            "('2006', 2111)\n",
            "('2007', 2249)\n",
            "('2008', 2206)\n",
            "('2009', 3152)\n",
            "('2010', 3026)\n",
            "('2011', 2860)\n"
          ]
        }
      ]
    },
    {
      "cell_type": "markdown",
      "source": [
        "### Data volume (re)confirm"
      ],
      "metadata": {
        "id": "VS8VHQUa9hZF"
      },
      "id": "VS8VHQUa9hZF"
    },
    {
      "cell_type": "code",
      "source": [
        "tables = ['bird', 'airport', 'aircraft_model', 'weather_condition', 'strike_record', 'airline', 'flight']\n",
        "\n",
        "for table in tables:\n",
        "    cursor.execute(f\"SELECT COUNT(*) FROM {table}\")\n",
        "    count = cursor.fetchone()[0]\n",
        "    print(f\"{table}: {count}\")\n",
        "\n",
        "results = [result1, result2, result3]\n",
        "\n",
        "for i, result in enumerate(results, 1):\n",
        "    print(f\"Number of rows in Query {i}: {len(result)}\")"
      ],
      "metadata": {
        "colab": {
          "base_uri": "https://localhost:8080/"
        },
        "id": "PWNQ2cK49pIu",
        "outputId": "b2d0f318-075d-4bf9-828c-42db49003160"
      },
      "id": "PWNQ2cK49pIu",
      "execution_count": null,
      "outputs": [
        {
          "output_type": "stream",
          "name": "stdout",
          "text": [
            "bird: 357\n",
            "airport: 976\n",
            "aircraft_model: 279\n",
            "weather_condition: 17\n",
            "strike_record: 24744\n",
            "airline: 288\n",
            "flight: 24744\n",
            "Number of rows in Query 1: 204\n",
            "Number of rows in Query 2: 1\n",
            "Number of rows in Query 3: 12\n"
          ]
        }
      ]
    },
    {
      "cell_type": "markdown",
      "source": [
        "# Result Presentation"
      ],
      "metadata": {
        "id": "uVgPPtXeMc5z"
      },
      "id": "uVgPPtXeMc5z"
    },
    {
      "cell_type": "markdown",
      "source": [
        "**Part 6 - Query** <br>\n",
        "The number of bird strikes incidents per year from 2008 to 2011 during take-off/climbing and during descent/approach/landing"
      ],
      "metadata": {
        "id": "F5t9eJYdMnW1"
      },
      "id": "F5t9eJYdMnW1"
    },
    {
      "cell_type": "code",
      "source": [
        "conn = sqlite3.connect(db_file_path)\n",
        "cursor = conn.cursor()\n",
        "\n",
        "query = \"\"\"\n",
        "  SELECT   strftime('%Y', f.flight_date) AS year, sr.phase_of_flight, COUNT(sr.record_id) AS incident_count\n",
        "    FROM   strike_record sr\n",
        "    JOIN   flight f ON sr.flight_id = f.flight_id\n",
        "   WHERE   strftime('%Y', f.flight_date) BETWEEN '2008' AND '2011'\n",
        "     AND   sr.phase_of_flight\n",
        "      IN   ('Take-off run', 'Climb', 'Descent', 'Approach', 'Landing Roll')\n",
        "GROUP BY   year,\n",
        "           sr.phase_of_flight\n",
        "ORDER BY   year,\n",
        "           sr.phase_of_flight;\n",
        "\"\"\"\n",
        "\n",
        "cursor.execute(query)\n",
        "result = cursor.fetchall()\n",
        "\n",
        "# Print the result\n",
        "for row in result:\n",
        "    print(row)\n",
        "\n"
      ],
      "metadata": {
        "id": "HhSmLPG0MlSv",
        "colab": {
          "base_uri": "https://localhost:8080/"
        },
        "outputId": "e00dbd3f-1e01-4fcb-d710-21789e59fa97"
      },
      "id": "HhSmLPG0MlSv",
      "execution_count": null,
      "outputs": [
        {
          "output_type": "stream",
          "name": "stdout",
          "text": [
            "('2008', 'Approach', 866)\n",
            "('2008', 'Climb', 386)\n",
            "('2008', 'Descent', 100)\n",
            "('2008', 'Landing Roll', 446)\n",
            "('2008', 'Take-off run', 402)\n",
            "('2009', 'Approach', 1285)\n",
            "('2009', 'Climb', 534)\n",
            "('2009', 'Descent', 94)\n",
            "('2009', 'Landing Roll', 666)\n",
            "('2009', 'Take-off run', 563)\n",
            "('2010', 'Approach', 1266)\n",
            "('2010', 'Climb', 452)\n",
            "('2010', 'Descent', 78)\n",
            "('2010', 'Landing Roll', 657)\n",
            "('2010', 'Take-off run', 567)\n",
            "('2011', 'Approach', 1243)\n",
            "('2011', 'Climb', 475)\n",
            "('2011', 'Descent', 31)\n",
            "('2011', 'Landing Roll', 592)\n",
            "('2011', 'Take-off run', 511)\n"
          ]
        }
      ]
    },
    {
      "cell_type": "code",
      "source": [
        "# Execute the query and load the results into a DataFrame\n",
        "df_result = pd.read_sql_query(query, conn)\n",
        "# print(df_result)\n",
        "\n",
        "conn.close()"
      ],
      "metadata": {
        "id": "hVU6897h63Vo"
      },
      "id": "hVU6897h63Vo",
      "execution_count": null,
      "outputs": []
    },
    {
      "cell_type": "markdown",
      "source": [
        "Query for take-off/climb phases incidents."
      ],
      "metadata": {
        "id": "-4vhmNhzAc27"
      },
      "id": "-4vhmNhzAc27"
    },
    {
      "cell_type": "code",
      "source": [
        "conn = sqlite3.connect(db_file_path)\n",
        "cursor = conn.cursor()\n",
        "query_takeoff_climb = \"\"\"\n",
        "  SELECT  strftime('%Y', f.flight_date) AS year, COUNT(sr.record_id) AS incident_count\n",
        "    FROM  strike_record sr\n",
        "    JOIN  flight f ON sr.flight_id = f.flight_id\n",
        "   WHERE  sr.phase_of_flight IN ('Take-off run', 'Climb')\n",
        "GROUP BY  year\n",
        "  HAVING  year BETWEEN '2008' AND '2011';\n",
        "\"\"\"\n",
        "cursor.execute(query_takeoff_climb)\n",
        "result = cursor.fetchall()\n",
        "\n",
        "# Print the take off stage result\n",
        "for row in result:\n",
        "    print(row)"
      ],
      "metadata": {
        "id": "U4QGY-kdAt6j",
        "colab": {
          "base_uri": "https://localhost:8080/"
        },
        "outputId": "ad38572d-18f9-483f-9df2-4a82fca97752"
      },
      "id": "U4QGY-kdAt6j",
      "execution_count": null,
      "outputs": [
        {
          "output_type": "stream",
          "name": "stdout",
          "text": [
            "('2008', 788)\n",
            "('2009', 1097)\n",
            "('2010', 1019)\n",
            "('2011', 986)\n"
          ]
        }
      ]
    },
    {
      "cell_type": "code",
      "source": [
        "# Execute the query and load the results into a DataFrame\n",
        "df_takeoff_climb = pd.read_sql_query(query_takeoff_climb, conn)"
      ],
      "metadata": {
        "id": "6QmnWckXA7TK"
      },
      "id": "6QmnWckXA7TK",
      "execution_count": null,
      "outputs": []
    },
    {
      "cell_type": "markdown",
      "source": [
        "Query for descent/approach/landing phases incidents."
      ],
      "metadata": {
        "id": "ctONcoIJCqE1"
      },
      "id": "ctONcoIJCqE1"
    },
    {
      "cell_type": "code",
      "source": [
        "query_descent_landing = \"\"\"\n",
        "  SELECT  strftime('%Y', f.flight_date) AS year, COUNT(sr.record_id) AS incident_count\n",
        "    FROM  strike_record sr\n",
        "    JOIN  flight f ON sr.flight_id = f.flight_id\n",
        "   WHERE  sr.phase_of_flight IN ('Descent', 'Approach', 'Landing Roll')\n",
        "GROUP BY  year\n",
        "  HAVING  year BETWEEN '2008' AND '2011';\n",
        "\"\"\"\n",
        "cursor.execute(query_descent_landing)\n",
        "result = cursor.fetchall()\n",
        "\n",
        "# Print the landing stage result\n",
        "for row in result:\n",
        "    print(row)"
      ],
      "metadata": {
        "id": "Ib86GWLhCvTs",
        "colab": {
          "base_uri": "https://localhost:8080/"
        },
        "outputId": "e4690ed5-9e09-4b47-fde7-79054c9ad870"
      },
      "id": "Ib86GWLhCvTs",
      "execution_count": null,
      "outputs": [
        {
          "output_type": "stream",
          "name": "stdout",
          "text": [
            "('2008', 1412)\n",
            "('2009', 2045)\n",
            "('2010', 2001)\n",
            "('2011', 1866)\n"
          ]
        }
      ]
    },
    {
      "cell_type": "code",
      "source": [
        "# Execute the query and load the results into a DataFrame\n",
        "df_descent_landing = pd.read_sql_query(query_descent_landing, conn)"
      ],
      "metadata": {
        "id": "TFgK73tJDDac"
      },
      "id": "TFgK73tJDDac",
      "execution_count": null,
      "outputs": []
    },
    {
      "cell_type": "markdown",
      "source": [
        "Build the column chart that visualizes the number of bird strikes incidents per year from 2008 to 2011 during take-off/climbing and during descent/approach/landing."
      ],
      "metadata": {
        "id": "5q1XM72-DQVw"
      },
      "id": "5q1XM72-DQVw"
    },
    {
      "cell_type": "code",
      "source": [
        "# Merge the dataframes for easier plotting\n",
        "df_combined = pd.merge(df_takeoff_climb, df_descent_landing, on='year', suffixes=('_takeoff', '_descent'))\n",
        "\n",
        "# Set up the figure and axes\n",
        "fig, ax = plt.subplots(figsize=(10, 6))\n",
        "\n",
        "# Define bar width and positions\n",
        "bar_width = 0.35\n",
        "index = range(len(df_combined))\n",
        "\n",
        "# Plot the data for take-off/climb incidents\n",
        "bars1 = ax.bar(index, df_combined['incident_count_takeoff'], bar_width, label='Take-off/Climb', color='b')\n",
        "\n",
        "# Plot the data for descent/approach/landing incidents\n",
        "bars2 = ax.bar([i + bar_width for i in index], df_combined['incident_count_descent'], bar_width, label='Descent/Approach/Landing', color='r')\n",
        "\n",
        "# Add labels and title\n",
        "ax.set_xlabel('Year')\n",
        "ax.set_ylabel('Number of Incidents')\n",
        "ax.set_title('Bird Strike Incidents Per Year (2008-2011)')\n",
        "ax.set_xticks([i + bar_width / 2 for i in index])\n",
        "ax.set_xticklabels(df_combined['year'])\n",
        "ax.legend()\n",
        "\n",
        "# Add data labels to the bars\n",
        "def add_labels(bars):\n",
        "    for bar in bars:\n",
        "        height = bar.get_height()\n",
        "        ax.annotate('{}'.format(height),\n",
        "                    xy=(bar.get_x() + bar.get_width() / 2, height),\n",
        "                    xytext=(0, 3),\n",
        "                    textcoords=\"offset points\",\n",
        "                    ha='center', va='bottom')\n",
        "\n",
        "# Add data labels to both sets of bars\n",
        "add_labels(bars1)\n",
        "add_labels(bars2)\n",
        "\n",
        "# Display the plot\n",
        "plt.show()\n"
      ],
      "metadata": {
        "id": "BhLOFaI0DVTP",
        "colab": {
          "base_uri": "https://localhost:8080/",
          "height": 585
        },
        "outputId": "56320893-c2f3-42fb-8638-f56d01d5deb9"
      },
      "id": "BhLOFaI0DVTP",
      "execution_count": null,
      "outputs": [
        {
          "output_type": "display_data",
          "data": {
            "text/plain": [
              "<Figure size 1000x600 with 1 Axes>"
            ],
            "image/png": "[encoded data removed]"
          },
          "metadata": {}
        }
      ]
    },
    {
      "cell_type": "markdown",
      "source": [
        "**Conclusion:** <br>"
      ],
      "metadata": {
        "id": "YDa_3oaPwUvj"
      },
      "id": "YDa_3oaPwUvj"
    },
    {
      "cell_type": "markdown",
      "source": [
        "From the chart, several trends can be observed regarding bird strike incidents during different flight phases from 2008 to 2011:"
      ],
      "metadata": {
        "id": "Qabqx502Jviv"
      },
      "id": "Qabqx502Jviv"
    },
    {
      "cell_type": "markdown",
      "source": [
        "**1.Higher Incidents during Descent/Approach/Landing: The number of incidents during descent/approach/landing is consistently higher than during take-off/climb across all years.**"
      ],
      "metadata": {
        "id": "pdgbxFx_Mpm-"
      },
      "id": "pdgbxFx_Mpm-"
    },
    {
      "cell_type": "markdown",
      "source": [
        "In order to find out the reasons behind this trend, we did some research further. We first calculate the average altitude of Descent/Approach/Landing group and take-off/climb group."
      ],
      "metadata": {
        "id": "KwUTYH9_o9Jm"
      },
      "id": "KwUTYH9_o9Jm"
    },
    {
      "cell_type": "markdown",
      "source": [
        "However, the following query result indicates that the average altitude during take-off/climb phases is approximately 586 feet. The average altitude during descent/approach/landing phases is even higher at approximately 1349 feet. This is contradicted by our perception."
      ],
      "metadata": {
        "id": "CUtK9klzp15y"
      },
      "id": "CUtK9klzp15y"
    },
    {
      "cell_type": "code",
      "source": [
        "conn = sqlite3.connect(db_file_path)\n",
        "cursor = conn.cursor()\n",
        "\n",
        "# Query to calculate the average altitude for each flight phase\n",
        "query_avg_altitude = \"\"\"\n",
        "  SELECT\n",
        "    CASE\n",
        "    WHEN   sr.phase_of_flight IN ('Take-off run', 'Climb') THEN 'Take-off/Climb'\n",
        "    WHEN   sr.phase_of_flight IN ('Descent', 'Approach', 'Landing') THEN 'Descent/Approach/Landing'\n",
        "  END AS   flight_phase,\n",
        "           AVG(sr.feet_above_ground) AS average_altitude\n",
        "    FROM   strike_record sr\n",
        "GROUP BY   flight_phase\n",
        "  HAVING   flight_phase IS NOT NULL;\n",
        "\"\"\"\n",
        "\n",
        "# Execute the query and fetch the results\n",
        "df_avg_altitude = pd.read_sql_query(query_avg_altitude, conn)\n",
        "\n",
        "# Display the results\n",
        "print(df_avg_altitude)"
      ],
      "metadata": {
        "id": "SS5bGt-7xmRH",
        "colab": {
          "base_uri": "https://localhost:8080/"
        },
        "outputId": "6e870be7-0586-4d25-e089-966b1106a1fa"
      },
      "id": "SS5bGt-7xmRH",
      "execution_count": null,
      "outputs": [
        {
          "output_type": "stream",
          "name": "stdout",
          "text": [
            "               flight_phase  average_altitude\n",
            "0  Descent/Approach/Landing       1348.478878\n",
            "1            Take-off/Climb        580.933682\n"
          ]
        }
      ]
    },
    {
      "cell_type": "markdown",
      "source": [
        "We decided to analyse each phase in more detail."
      ],
      "metadata": {
        "id": "-6bzdIKAMr0Z"
      },
      "id": "-6bzdIKAMr0Z"
    },
    {
      "cell_type": "markdown",
      "source": [
        "**Bird Strike Incidents Proportion in a Year**"
      ],
      "metadata": {
        "id": "nqJTbn2H6-SB"
      },
      "id": "nqJTbn2H6-SB"
    },
    {
      "cell_type": "code",
      "source": [
        "# Ensure the phase_of_flight is displayed in the desired order\n",
        "phase_order = ['Take-off run', 'Climb', 'Descent', 'Approach', 'Landing Roll']\n",
        "\n",
        "# Function to plot pie chart for a specific year\n",
        "def plot_pie_chart_for_year(year):\n",
        "    df_year = df_result[df_result['year'] == year].set_index('phase_of_flight')\n",
        "    df_year = df_year.reindex(phase_order).reset_index()\n",
        "\n",
        "    sizes = df_year['incident_count']\n",
        "    labels = df_year['phase_of_flight']\n",
        "    # Custom colors for warm and cold phases\n",
        "    colors = ['#3572EF', '#A7E6FF', '#80B9AD', '#B3E2A7', '#538392']\n",
        "\n",
        "    fig, ax = plt.subplots(figsize=(8, 8))\n",
        "    ax.pie(sizes, labels=labels, colors=colors, autopct='%1.1f%%', startangle=140)\n",
        "    ax.set_title(f'Bird Strike Incidents Proportion ({year})')\n",
        "    plt.show()\n",
        "\n",
        "# Plot pie charts for all years in the dataset\n",
        "unique_years = df_result['year'].unique()\n",
        "for year in unique_years:\n",
        "    plot_pie_chart_for_year(year)"
      ],
      "metadata": {
        "id": "LI8V5JN06wKv",
        "colab": {
          "base_uri": "https://localhost:8080/",
          "height": 1000
        },
        "outputId": "0de1982c-b217-4969-f2f5-bb3706d05a1b"
      },
      "id": "LI8V5JN06wKv",
      "execution_count": null,
      "outputs": [
        {
          "output_type": "display_data",
          "data": {
            "text/plain": [
              "<Figure size 800x800 with 1 Axes>"
            ],
            "image/png": "[encoded data removed]"
          },
          "metadata": {}
        },
        {
          "output_type": "display_data",
          "data": {
            "text/plain": [
              "<Figure size 800x800 with 1 Axes>"
            ],
            "image/png": "[encoded data removed]"
          },
          "metadata": {}
        },
        {
          "output_type": "display_data",
          "data": {
            "text/plain": [
              "<Figure size 800x800 with 1 Axes>"
            ],
            "image/png": "[encoded data removed]"
          },
          "metadata": {}
        },
        {
          "output_type": "display_data",
          "data": {
            "text/plain": [
              "<Figure size 800x800 with 1 Axes>"
            ],
            "image/png": "[encoded data removed]"
          },
          "metadata": {}
        }
      ]
    },
    {
      "cell_type": "markdown",
      "source": [
        "We find that there's a huge difference inside the descent/approach/landing group. Approach phase accounts for a large percentage of the incidents, while descent phase only accounts for a small percentage of the incidents, but descent may level up the average altitude of the descent/approach/landing group."
      ],
      "metadata": {
        "id": "4mGzXWkfr54L"
      },
      "id": "4mGzXWkfr54L"
    },
    {
      "cell_type": "markdown",
      "source": [
        "Thus, we re-calculate the average altitude divided into specific phases. The query below shows that higher risk at Lower Altitudes.The approach phase, occurring at an average altitude of around 1005 feet, and the climb phase at around 1205 feet, are at altitudes where birds are more commonly found. This increases the likelihood of bird strikes. Also, there's a lower risk at higher altitudes. The descent phase, occurring at an average altitude of approximately 5927 feet, experiences fewer bird strikes likely due to the higher altitude where bird presence is less common.\n",
        "\n"
      ],
      "metadata": {
        "id": "XcOPOFxYstMY"
      },
      "id": "XcOPOFxYstMY"
    },
    {
      "cell_type": "markdown",
      "source": [
        "The data of specific phases also give us insight that most of the incidents happens at or near the airport. From 2008 to 2011, each year more than 95% of the incidents happened at the take-off/climb/approach/landing phases, which are at or near the airport. It gives us insight that the importance of enhancing bird activity monitoring at the airport, and near approach paths and take-off zones, to predict and prevent potential bird strikes.\n"
      ],
      "metadata": {
        "id": "EKKY99Igw94s"
      },
      "id": "EKKY99Igw94s"
    },
    {
      "cell_type": "code",
      "source": [
        "# Query to calculate the average altitude for each individual flight phase\n",
        "query_avg_altitude_each_phase = \"\"\"\n",
        "  SELECT   sr.phase_of_flight,\n",
        "           AVG(sr.feet_above_ground) AS average_altitude\n",
        "    FROM   strike_record sr\n",
        "GROUP BY   sr.phase_of_flight\n",
        "  HAVING   sr.phase_of_flight IN ('Take-off run', 'Climb', 'Descent', 'Approach', 'Landing Roll');\n",
        "\"\"\"\n",
        "\n",
        "# Execute the query and fetch the results\n",
        "df_avg_altitude_each_phase = pd.read_sql_query(query_avg_altitude_each_phase, conn)\n",
        "\n",
        "# Display the results\n",
        "print(df_avg_altitude_each_phase)"
      ],
      "metadata": {
        "id": "rVzSMwzJs6Wy",
        "colab": {
          "base_uri": "https://localhost:8080/"
        },
        "outputId": "a92b6ced-c774-45b4-d9b7-939d9d6f7f5e"
      },
      "id": "rVzSMwzJs6Wy",
      "execution_count": null,
      "outputs": [
        {
          "output_type": "stream",
          "name": "stdout",
          "text": [
            "  phase_of_flight  average_altitude\n",
            "0        Approach       1004.757856\n",
            "1           Climb       1204.828545\n",
            "2         Descent       5927.366142\n",
            "3    Landing Roll          0.000000\n",
            "4    Take-off run          0.000000\n"
          ]
        }
      ]
    },
    {
      "cell_type": "markdown",
      "source": [
        " **2.Overall Trend in Incidents:\n",
        "Both the take-off/climb group and the descent/approach/landing group show an increasing trend in incidents from 2008 to 2009, followed by a slight decrease from 2009 to 2011.**\n",
        "As to specific phases within these groups,\n",
        "the climb phase experienced an increase in incidents from 2010 to 2011.\n",
        "The descent phase showed a decrease in incidents from 2008 to 2011.\n",
        "This insight suggests that even within the same group, different phases demonstrate distinct trends. Therefore, further dividing the groups for deeper analysis can provide more valuable insights.\n",
        "By analyzing the data more granularly, we can identify specific trends and factors affecting each phase, allowing for more targeted safety measures and strategies to mitigate bird strike risks effectively."
      ],
      "metadata": {
        "id": "1T_rEI0JRVKc"
      },
      "id": "1T_rEI0JRVKc"
    },
    {
      "cell_type": "markdown",
      "source": [
        "Bird Striks Trend graph"
      ],
      "metadata": {
        "id": "-0VFFZZS7BBm"
      },
      "id": "-0VFFZZS7BBm"
    },
    {
      "cell_type": "code",
      "source": [
        "import matplotlib.pyplot as plt\n",
        "\n",
        "# Pivot the data to have years as rows and phases as columns\n",
        "df_pivot = df_result.pivot(index='year', columns='phase_of_flight', values='incident_count').fillna(0)\n",
        "\n",
        "# Plot the data using a line chart\n",
        "fig, ax = plt.subplots(figsize=(12, 8))\n",
        "\n",
        "for column in df_pivot.columns:\n",
        "    ax.plot(df_pivot.index, df_pivot[column], marker='o', label=column)\n",
        "\n",
        "ax.set_xlabel('Year')\n",
        "ax.set_ylabel('Number of Incidents')\n",
        "ax.set_title('Bird Strike Incidents Trend (2008-2011)')\n",
        "ax.legend(title='Phase of Flight')\n",
        "plt.show()\n"
      ],
      "metadata": {
        "id": "qb8YIQlf678L",
        "colab": {
          "base_uri": "https://localhost:8080/",
          "height": 739
        },
        "outputId": "4b3f89ff-9084-4f42-c040-19b2434c6864"
      },
      "id": "qb8YIQlf678L",
      "execution_count": null,
      "outputs": [
        {
          "output_type": "display_data",
          "data": {
            "text/plain": [
              "<Figure size 1200x800 with 1 Axes>"
            ],
            "image/png": "[encoded data removed]"
          },
          "metadata": {}
        }
      ]
    },
    {
      "cell_type": "code",
      "source": [
        "# Create the combined bar and line chart\n",
        "fig, ax1 = plt.subplots(figsize=(12, 8))\n",
        "\n",
        "bar_width = 0.35\n",
        "index = df_takeoff_climb['year'].astype(int)\n",
        "\n",
        "# Plot the bar chart\n",
        "bar1 = ax1.bar(index - bar_width/2, df_takeoff_climb['incident_count'], bar_width, label='Take-off/Climb', color='b', alpha=0.7)\n",
        "bar2 = ax1.bar(index + bar_width/2, df_descent_landing['incident_count'], bar_width, label='Descent/Approach/Landing', color='r', alpha=0.7)\n",
        "\n",
        "# Plot the line chart\n",
        "ax2 = ax1.twinx()\n",
        "ax2.plot(index, df_takeoff_climb['incident_count'], marker='o', label='Take-off/Climb', color='b', linestyle='--')\n",
        "ax2.plot(index, df_descent_landing['incident_count'], marker='o', label='Descent/Approach/Landing', color='r', linestyle='--')\n",
        "\n",
        "# Add labels and title\n",
        "ax1.set_xlabel('Year')\n",
        "ax1.set_ylabel('Number of Incidents (Bar)', color='g')\n",
        "ax2.set_ylabel('Number of Incidents (Line)', color='b')\n",
        "ax1.set_title('Bird Strike Incidents trend (2008-2011)')\n",
        "ax1.set_xticks(index)\n",
        "ax1.set_xticklabels(index)\n",
        "ax1.legend(loc='upper left')\n",
        "ax2.legend(loc='upper right')\n",
        "\n",
        "# Add data labels\n",
        "for bar in bar1:\n",
        "    height = bar.get_height()\n",
        "    ax1.annotate('{}'.format(height),\n",
        "                 xy=(bar.get_x() + bar.get_width() / 2, height),\n",
        "                 xytext=(0, 3),\n",
        "                 textcoords=\"offset points\",\n",
        "                 ha='center', va='bottom', color='white')\n",
        "\n",
        "for bar in bar2:\n",
        "    height = bar.get_height()\n",
        "    ax1.annotate('{}'.format(height),\n",
        "                 xy=(bar.get_x() + bar.get_width() / 2, height),\n",
        "                 xytext=(0, 3),\n",
        "                 textcoords=\"offset points\",\n",
        "                 ha='center', va='bottom', color='white')\n",
        "\n",
        "# Display the plot\n",
        "plt.show()"
      ],
      "metadata": {
        "id": "2y2eo0a77K8w",
        "colab": {
          "base_uri": "https://localhost:8080/",
          "height": 739
        },
        "outputId": "8b81f8a8-24b6-4692-c210-0fde16506404"
      },
      "id": "2y2eo0a77K8w",
      "execution_count": null,
      "outputs": [
        {
          "output_type": "display_data",
          "data": {
            "text/plain": [
              "<Figure size 1200x800 with 2 Axes>"
            ],
            "image/png": "[encoded data removed]"
          },
          "metadata": {}
        }
      ]
    }
  ],
  "metadata": {
    "kernelspec": {
      "display_name": "Python 3 (ipykernel)",
      "language": "python",
      "name": "python3"
    },
    "language_info": {
      "codemirror_mode": {
        "name": "ipython",
        "version": 3
      },
      "file_extension": ".py",
      "mimetype": "text/x-python",
      "name": "python",
      "nbconvert_exporter": "python",
      "pygments_lexer": "ipython3",
      "version": "3.10.9"
    },
    "colab": {
      "provenance": [],
      "collapsed_sections": [
        "kz9e-YvjmPAa",
        "Bf92o17-EwxC"
      ]
    }
  },
  "nbformat": 4,
  "nbformat_minor": 5
}